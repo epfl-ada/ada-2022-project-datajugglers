{
 "cells": [
  {
   "attachments": {},
   "cell_type": "markdown",
   "metadata": {},
   "source": [
    "# Project part 3"
   ]
  },
  {
   "attachments": {},
   "cell_type": "markdown",
   "metadata": {},
   "source": [
    "## Installs and imports"
   ]
  },
  {
   "cell_type": "code",
   "execution_count": 331,
   "metadata": {},
   "outputs": [
    {
     "name": "stdout",
     "output_type": "stream",
     "text": [
      "Requirement already satisfied: Wikidata in /home/miraz/.local/lib/python3.8/site-packages (0.7.0)\n",
      "Note: you may need to restart the kernel to use updated packages.\n",
      "Requirement already satisfied: NetworkX in /home/miraz/.local/lib/python3.8/site-packages (2.8.8)\n",
      "Note: you may need to restart the kernel to use updated packages.\n"
     ]
    }
   ],
   "source": [
    "%pip install Wikidata\n",
    "%pip install NetworkX"
   ]
  },
  {
   "cell_type": "code",
   "execution_count": 17,
   "metadata": {},
   "outputs": [],
   "source": [
    "\n",
    "import os\n",
    "import tarfile\n",
    "import datetime\n",
    "import random\n",
    "import json\n",
    "import requests\n",
    "\n",
    "import pandas as pd\n",
    "import numpy as np\n",
    "import networkx as nx\n",
    "\n",
    "import matplotlib.pyplot as plt\n",
    "import seaborn as sns \n",
    "\n",
    "from statistics import mean\n",
    "from sklearn.metrics import jaccard_score\n",
    "from wikidata.client import Client\n",
    "\n",
    "from tqdm.auto import tqdm, trange"
   ]
  },
  {
   "attachments": {},
   "cell_type": "markdown",
   "metadata": {},
   "source": [
    "## Data loading and preprocessing \n"
   ]
  },
  {
   "cell_type": "code",
   "execution_count": 18,
   "metadata": {},
   "outputs": [],
   "source": [
    "DATA_FOLDER = 'data'\n",
    "DB_FOLDER_NAME = 'MovieSummaries'\n",
    "MOVIE_TABLE_PATH = os.path.join(DATA_FOLDER, DB_FOLDER_NAME, 'movie.metadata.tsv')\n",
    "CHARACTER_TABLE_PATH = os.path.join(DATA_FOLDER, DB_FOLDER_NAME, 'character.metadata.tsv')\n",
    "IMDB_FINAL_TABLE_PATH = os.path.join(DATA_FOLDER, 'imdb.ratings.tsv')\n",
    "\n",
    "\n",
    "movies_columns = ['wikipedia movie id',\n",
    "                  'freebase movie id',\n",
    "                  'movie name',\n",
    "                  'movie release date',\n",
    "                  'movie box office revenue',\n",
    "                  'movie runtime',\n",
    "                  'movie languages',\n",
    "                  'movie countries',\n",
    "                  'movie genres']\n",
    "\n",
    "characters_columns = ['wikipedia movie id',\n",
    "                      'freebase movie id',\n",
    "                      'movie release date',\n",
    "                      'character name',\n",
    "                      'actor dob',\n",
    "                      'actor gender',\n",
    "                      'actor height',\n",
    "                      'actor ethnicity',\n",
    "                      'actor name',\n",
    "                      'actor age at movie release',\n",
    "                      'freebase character/actor map id',\n",
    "                      'freebase character id',\n",
    "                      'freebase character map']\n",
    "\n",
    "# Extract character.metadata.tsv and movie.metadata.tsv tables from MovieSummaries\n",
    "\n",
    "file = tarfile.open(os.path.join(DATA_FOLDER, DB_FOLDER_NAME + '.tar.gz'))\n",
    "file.extractall(DATA_FOLDER)\n",
    "file.close()\n",
    "\n",
    "df_movie = pd.read_csv(MOVIE_TABLE_PATH, sep ='\\t', header = None,\\\n",
    "    names=movies_columns, na_values=['{}', ' '], lineterminator='\\n')\n",
    "df_character = pd.read_csv(CHARACTER_TABLE_PATH, sep ='\\t', header = None,\\\n",
    "    names=characters_columns, na_values=' ', lineterminator='\\n')\n",
    "\n",
    "# Extract imdb table\n",
    "\n",
    "df_movies_IMDb_ratings = pd.read_csv(IMDB_FINAL_TABLE_PATH, sep ='\\t',\\\n",
    "    na_values = ['{}', ' '], lineterminator='\\n')\n"
   ]
  },
  {
   "attachments": {},
   "cell_type": "markdown",
   "metadata": {},
   "source": [
    "### Movie table preprocessing"
   ]
  },
  {
   "cell_type": "code",
   "execution_count": 20,
   "metadata": {},
   "outputs": [
    {
     "name": "stdout",
     "output_type": "stream",
     "text": [
      "Original number of movies:  81741\n",
      "Number of movies after droping empty dates:  74839\n",
      "Number of movies after droping too early release date:  74838\n"
     ]
    }
   ],
   "source": [
    "# For movie and character identification we decided to use wikipedia id, so\n",
    "# information from freebase are not usefull for us. We can remove columns regarding freebase.\n",
    "df_movie = df_movie.drop(['freebase movie id'], 1)\n",
    "\n",
    "# In our project we need movie release dates, so we can drop movies without release date.\n",
    "# We drop only about 8 percent of movies.\n",
    "print('Original number of movies: ', len(df_movie))\n",
    "df_movie = df_movie.dropna(subset=['movie release date'])\n",
    "print('Number of movies after droping empty dates: ', len(df_movie))\n",
    "\n",
    "# Clean some columns which have freebase ID number apart from valuable information\n",
    "def cleaning_function(column):\n",
    "    string_cleaner = lambda val: ','.join(list(json.loads(val).values()))\n",
    "    return [string_cleaner(val) if isinstance(val, str) else 'None' for val in column]\n",
    "\n",
    "df_movie['movie languages'] = cleaning_function(df_movie['movie languages'])\n",
    "df_movie['movie countries'] = cleaning_function(df_movie['movie countries'])\n",
    "df_movie['movie genres'] = cleaning_function(df_movie['movie genres'])\n",
    "\n",
    "# Clean date column, keep dates as just years of type int\n",
    "def date_cleaning_function(column):\n",
    "    string_cleaner = lambda val: val if len(val) <= 4 else val[0:4]\n",
    "    dates = [string_cleaner(str(date)) for date in column]\n",
    "    return np.array(dates, dtype=int)\n",
    "\n",
    "df_movie['movie release date'] = date_cleaning_function(df_movie['movie release date'])\n",
    "\n",
    "MINIMUM_RELEASE_DATE = 1888 # Roundhay Garden Scene was the first motion picture, release in 1888\n",
    "df_movie = df_movie[df_movie['movie release date'] >= MINIMUM_RELEASE_DATE]\n",
    "print('Number of movies after droping too early release date: ', len(df_movie))\n"
   ]
  },
  {
   "cell_type": "code",
   "execution_count": 21,
   "metadata": {},
   "outputs": [
    {
     "data": {
      "text/html": [
       "<div>\n",
       "<style scoped>\n",
       "    .dataframe tbody tr th:only-of-type {\n",
       "        vertical-align: middle;\n",
       "    }\n",
       "\n",
       "    .dataframe tbody tr th {\n",
       "        vertical-align: top;\n",
       "    }\n",
       "\n",
       "    .dataframe thead th {\n",
       "        text-align: right;\n",
       "    }\n",
       "</style>\n",
       "<table border=\"1\" class=\"dataframe\">\n",
       "  <thead>\n",
       "    <tr style=\"text-align: right;\">\n",
       "      <th></th>\n",
       "      <th>wikipedia movie id</th>\n",
       "      <th>movie name</th>\n",
       "      <th>movie release date</th>\n",
       "      <th>movie box office revenue</th>\n",
       "      <th>movie runtime</th>\n",
       "      <th>movie languages</th>\n",
       "      <th>movie countries</th>\n",
       "      <th>movie genres</th>\n",
       "    </tr>\n",
       "  </thead>\n",
       "  <tbody>\n",
       "    <tr>\n",
       "      <th>0</th>\n",
       "      <td>975900</td>\n",
       "      <td>Ghosts of Mars</td>\n",
       "      <td>2001</td>\n",
       "      <td>14010832.0</td>\n",
       "      <td>98.0</td>\n",
       "      <td>English Language</td>\n",
       "      <td>United States of America</td>\n",
       "      <td>Thriller,Science Fiction,Horror,Adventure,Supe...</td>\n",
       "    </tr>\n",
       "    <tr>\n",
       "      <th>1</th>\n",
       "      <td>3196793</td>\n",
       "      <td>Getting Away with Murder: The JonBenét Ramsey ...</td>\n",
       "      <td>2000</td>\n",
       "      <td>NaN</td>\n",
       "      <td>95.0</td>\n",
       "      <td>English Language</td>\n",
       "      <td>United States of America</td>\n",
       "      <td>Mystery,Biographical film,Drama,Crime Drama</td>\n",
       "    </tr>\n",
       "    <tr>\n",
       "      <th>2</th>\n",
       "      <td>28463795</td>\n",
       "      <td>Brun bitter</td>\n",
       "      <td>1988</td>\n",
       "      <td>NaN</td>\n",
       "      <td>83.0</td>\n",
       "      <td>Norwegian Language</td>\n",
       "      <td>Norway</td>\n",
       "      <td>Crime Fiction,Drama</td>\n",
       "    </tr>\n",
       "    <tr>\n",
       "      <th>3</th>\n",
       "      <td>9363483</td>\n",
       "      <td>White Of The Eye</td>\n",
       "      <td>1987</td>\n",
       "      <td>NaN</td>\n",
       "      <td>110.0</td>\n",
       "      <td>English Language</td>\n",
       "      <td>United Kingdom</td>\n",
       "      <td>Thriller,Erotic thriller,Psychological thriller</td>\n",
       "    </tr>\n",
       "    <tr>\n",
       "      <th>4</th>\n",
       "      <td>261236</td>\n",
       "      <td>A Woman in Flames</td>\n",
       "      <td>1983</td>\n",
       "      <td>NaN</td>\n",
       "      <td>106.0</td>\n",
       "      <td>German Language</td>\n",
       "      <td>Germany</td>\n",
       "      <td>Drama</td>\n",
       "    </tr>\n",
       "  </tbody>\n",
       "</table>\n",
       "</div>"
      ],
      "text/plain": [
       "   wikipedia movie id                                         movie name  \\\n",
       "0              975900                                     Ghosts of Mars   \n",
       "1             3196793  Getting Away with Murder: The JonBenét Ramsey ...   \n",
       "2            28463795                                        Brun bitter   \n",
       "3             9363483                                   White Of The Eye   \n",
       "4              261236                                  A Woman in Flames   \n",
       "\n",
       "   movie release date  movie box office revenue  movie runtime  \\\n",
       "0                2001                14010832.0           98.0   \n",
       "1                2000                       NaN           95.0   \n",
       "2                1988                       NaN           83.0   \n",
       "3                1987                       NaN          110.0   \n",
       "4                1983                       NaN          106.0   \n",
       "\n",
       "      movie languages           movie countries  \\\n",
       "0    English Language  United States of America   \n",
       "1    English Language  United States of America   \n",
       "2  Norwegian Language                    Norway   \n",
       "3    English Language            United Kingdom   \n",
       "4     German Language                   Germany   \n",
       "\n",
       "                                        movie genres  \n",
       "0  Thriller,Science Fiction,Horror,Adventure,Supe...  \n",
       "1        Mystery,Biographical film,Drama,Crime Drama  \n",
       "2                                Crime Fiction,Drama  \n",
       "3    Thriller,Erotic thriller,Psychological thriller  \n",
       "4                                              Drama  "
      ]
     },
     "execution_count": 21,
     "metadata": {},
     "output_type": "execute_result"
    }
   ],
   "source": [
    "df_movie.head()"
   ]
  },
  {
   "attachments": {},
   "cell_type": "markdown",
   "metadata": {},
   "source": [
    "### Character table preprocessing"
   ]
  },
  {
   "cell_type": "code",
   "execution_count": 22,
   "metadata": {},
   "outputs": [
    {
     "name": "stdout",
     "output_type": "stream",
     "text": [
      "Original number of characters:  450669\n",
      "Number of characters after droping empty actor names:  449441\n"
     ]
    }
   ],
   "source": [
    "# For character identification we decided to use wikipedia id, so\n",
    "# information from freebase are not usefull for us. We can remove columns regarding freebase.\n",
    "df_character = df_character.drop(['freebase movie id', 'freebase character/actor map id', 'freebase character id', 'freebase character map'], 1)\n",
    "\n",
    "# Movie release date is used from df_movie dataframe, so it can be removed in df_character\n",
    "df_character = df_character.drop(['movie release date'], 1)\n",
    "\n",
    "# Character names are not really usefull for us in this analysis, as we built actor graph not character graph\n",
    "df_character = df_character.drop(['character name'], 1)\n",
    "\n",
    "# In out project we need actor names, so we can drop character without their, actors name.\n",
    "# We drop less then 1 percent of characters.\n",
    "print('Original number of characters: ', len(df_character))\n",
    "df_character = df_character.dropna(subset=['actor name'])\n",
    "print('Number of characters after droping empty actor names: ', len(df_character))\n"
   ]
  },
  {
   "attachments": {},
   "cell_type": "markdown",
   "metadata": {},
   "source": [
    "Ethnicities retrieving "
   ]
  },
  {
   "cell_type": "code",
   "execution_count": 412,
   "metadata": {},
   "outputs": [
    {
     "name": "stdout",
     "output_type": "stream",
     "text": [
      "We have 479 unique ethnicities in actor table\n"
     ]
    },
    {
     "data": {
      "application/vnd.jupyter.widget-view+json": {
       "model_id": "9c7d35163dc74094a0620ab661e0a6e0",
       "version_major": 2,
       "version_minor": 0
      },
      "text/plain": [
       "A Jupyter Widget"
      ]
     },
     "metadata": {},
     "output_type": "display_data"
    }
   ],
   "source": [
    "WIKIDATA_QUERY = \"\"\"\n",
    "SELECT DISTINCT ?item ?itemLabel WHERE {\n",
    "  SERVICE wikibase:label { bd:serviceParam wikibase:language \"[AUTO_LANGUAGE]\". }\n",
    "  {\n",
    "    SELECT DISTINCT ?item WHERE {\n",
    "      ?item p:P646 ?statement0.\n",
    "      ?statement0 (ps:P646) \"%s\".\n",
    "    }\n",
    "    LIMIT 100\n",
    "  }\n",
    "}\n",
    "\"\"\"\n",
    "\n",
    "def get_ethnicity(ethnicity_freebase_id):\n",
    "    \"\"\"Get the label of the freebase ID from Wikidata\n",
    "\n",
    "    Args:\n",
    "        freebase_id: the freebase ID to be decoded\n",
    "\n",
    "    Returns: \n",
    "        entity.label, the corresponding label of the Wikidata ID\n",
    "    \"\"\"\n",
    "\n",
    "    query = WIKIDATA_QUERY % ethnicity_freebase_id\n",
    "    req = requests.get(\"https://query.wikidata.org/sparql\",\n",
    "                      params={\"format\": \"json\", \"query\": query})\n",
    "    try:\n",
    "        data = req.json()\n",
    "        wikidata_id = data[\"results\"][\"bindings\"][0][\"itemLabel\"][\"value\"]\n",
    "    except:\n",
    "        return np.nan\n",
    "\n",
    "    return str(Client().get(wikidata_id, load=True).label)\n",
    "\n",
    "def ethnicities_decoded(column):\n",
    "    ethnicities = column.dropna().unique()\n",
    "    print(f'We have {len(ethnicities)} unique ethnicities in actor table')\n",
    "    decoded = []\n",
    "    for ethnicity in tqdm(ethnicities):\n",
    "        decoded.append(get_ethnicity(ethnicity))\n",
    "    translator = dict(zip(ethnicities, decoded))\n",
    "    return column.replace(translator)\n",
    "\n",
    "df_character['actor ethnicity'] = ethnicities_decoded(df_character['actor ethnicity'])\n",
    "ethnicity_found = df_character['actor ethnicity'].count()\n",
    "print(f'After retrieving actor ethnicities we have {ethnicity_found} out of\\\n",
    "{len(df_character)} character ethnicities - so about {100 * ethnicity_found // len(df_character)} percent')"
   ]
  },
  {
   "cell_type": "code",
   "execution_count": 23,
   "metadata": {},
   "outputs": [
    {
     "data": {
      "text/html": [
       "<div>\n",
       "<style scoped>\n",
       "    .dataframe tbody tr th:only-of-type {\n",
       "        vertical-align: middle;\n",
       "    }\n",
       "\n",
       "    .dataframe tbody tr th {\n",
       "        vertical-align: top;\n",
       "    }\n",
       "\n",
       "    .dataframe thead th {\n",
       "        text-align: right;\n",
       "    }\n",
       "</style>\n",
       "<table border=\"1\" class=\"dataframe\">\n",
       "  <thead>\n",
       "    <tr style=\"text-align: right;\">\n",
       "      <th></th>\n",
       "      <th>wikipedia movie id</th>\n",
       "      <th>actor dob</th>\n",
       "      <th>actor gender</th>\n",
       "      <th>actor height</th>\n",
       "      <th>actor ethnicity</th>\n",
       "      <th>actor name</th>\n",
       "      <th>actor age at movie release</th>\n",
       "    </tr>\n",
       "  </thead>\n",
       "  <tbody>\n",
       "    <tr>\n",
       "      <th>0</th>\n",
       "      <td>975900</td>\n",
       "      <td>1958-08-26</td>\n",
       "      <td>F</td>\n",
       "      <td>1.620</td>\n",
       "      <td>NaN</td>\n",
       "      <td>Wanda De Jesus</td>\n",
       "      <td>42.0</td>\n",
       "    </tr>\n",
       "    <tr>\n",
       "      <th>1</th>\n",
       "      <td>975900</td>\n",
       "      <td>1974-08-15</td>\n",
       "      <td>F</td>\n",
       "      <td>1.780</td>\n",
       "      <td>/m/044038p</td>\n",
       "      <td>Natasha Henstridge</td>\n",
       "      <td>27.0</td>\n",
       "    </tr>\n",
       "    <tr>\n",
       "      <th>2</th>\n",
       "      <td>975900</td>\n",
       "      <td>1969-06-15</td>\n",
       "      <td>M</td>\n",
       "      <td>1.727</td>\n",
       "      <td>/m/0x67</td>\n",
       "      <td>Ice Cube</td>\n",
       "      <td>32.0</td>\n",
       "    </tr>\n",
       "    <tr>\n",
       "      <th>3</th>\n",
       "      <td>975900</td>\n",
       "      <td>1967-09-12</td>\n",
       "      <td>M</td>\n",
       "      <td>1.750</td>\n",
       "      <td>NaN</td>\n",
       "      <td>Jason Statham</td>\n",
       "      <td>33.0</td>\n",
       "    </tr>\n",
       "    <tr>\n",
       "      <th>4</th>\n",
       "      <td>975900</td>\n",
       "      <td>1977-09-25</td>\n",
       "      <td>F</td>\n",
       "      <td>1.650</td>\n",
       "      <td>NaN</td>\n",
       "      <td>Clea DuVall</td>\n",
       "      <td>23.0</td>\n",
       "    </tr>\n",
       "  </tbody>\n",
       "</table>\n",
       "</div>"
      ],
      "text/plain": [
       "   wikipedia movie id   actor dob actor gender  actor height actor ethnicity  \\\n",
       "0              975900  1958-08-26            F         1.620             NaN   \n",
       "1              975900  1974-08-15            F         1.780      /m/044038p   \n",
       "2              975900  1969-06-15            M         1.727         /m/0x67   \n",
       "3              975900  1967-09-12            M         1.750             NaN   \n",
       "4              975900  1977-09-25            F         1.650             NaN   \n",
       "\n",
       "           actor name  actor age at movie release  \n",
       "0      Wanda De Jesus                        42.0  \n",
       "1  Natasha Henstridge                        27.0  \n",
       "2            Ice Cube                        32.0  \n",
       "3       Jason Statham                        33.0  \n",
       "4         Clea DuVall                        23.0  "
      ]
     },
     "execution_count": 23,
     "metadata": {},
     "output_type": "execute_result"
    }
   ],
   "source": [
    "df_character.head()"
   ]
  },
  {
   "attachments": {},
   "cell_type": "markdown",
   "metadata": {},
   "source": [
    "### IMDB tables integration into movies table"
   ]
  },
  {
   "cell_type": "code",
   "execution_count": 24,
   "metadata": {},
   "outputs": [
    {
     "name": "stdout",
     "output_type": "stream",
     "text": [
      "Number of movies before integrating with IMDB ratings: 74838\n",
      "Number of movies after integrating with IMDB ratings: 53178\n"
     ]
    },
    {
     "data": {
      "text/html": [
       "<div>\n",
       "<style scoped>\n",
       "    .dataframe tbody tr th:only-of-type {\n",
       "        vertical-align: middle;\n",
       "    }\n",
       "\n",
       "    .dataframe tbody tr th {\n",
       "        vertical-align: top;\n",
       "    }\n",
       "\n",
       "    .dataframe thead th {\n",
       "        text-align: right;\n",
       "    }\n",
       "</style>\n",
       "<table border=\"1\" class=\"dataframe\">\n",
       "  <thead>\n",
       "    <tr style=\"text-align: right;\">\n",
       "      <th></th>\n",
       "      <th>wikipedia movie id</th>\n",
       "      <th>movie name</th>\n",
       "      <th>movie release date</th>\n",
       "      <th>movie box office revenue</th>\n",
       "      <th>movie runtime</th>\n",
       "      <th>movie languages</th>\n",
       "      <th>movie countries</th>\n",
       "      <th>movie genres</th>\n",
       "      <th>averageRating</th>\n",
       "      <th>numVotes</th>\n",
       "    </tr>\n",
       "  </thead>\n",
       "  <tbody>\n",
       "    <tr>\n",
       "      <th>0</th>\n",
       "      <td>975900</td>\n",
       "      <td>Ghosts of Mars</td>\n",
       "      <td>2001</td>\n",
       "      <td>14010832.0</td>\n",
       "      <td>98.0</td>\n",
       "      <td>English Language</td>\n",
       "      <td>United States of America</td>\n",
       "      <td>Thriller,Science Fiction,Horror,Adventure,Supe...</td>\n",
       "      <td>4.9</td>\n",
       "      <td>55408</td>\n",
       "    </tr>\n",
       "    <tr>\n",
       "      <th>2</th>\n",
       "      <td>28463795</td>\n",
       "      <td>Brun bitter</td>\n",
       "      <td>1988</td>\n",
       "      <td>NaN</td>\n",
       "      <td>83.0</td>\n",
       "      <td>Norwegian Language</td>\n",
       "      <td>Norway</td>\n",
       "      <td>Crime Fiction,Drama</td>\n",
       "      <td>5.7</td>\n",
       "      <td>40</td>\n",
       "    </tr>\n",
       "    <tr>\n",
       "      <th>3</th>\n",
       "      <td>13696889</td>\n",
       "      <td>The Gangsters</td>\n",
       "      <td>1913</td>\n",
       "      <td>NaN</td>\n",
       "      <td>35.0</td>\n",
       "      <td>Silent film,English Language</td>\n",
       "      <td>United States of America</td>\n",
       "      <td>Short Film,Silent film,Indie,Black-and-white,C...</td>\n",
       "      <td>6.8</td>\n",
       "      <td>16</td>\n",
       "    </tr>\n",
       "    <tr>\n",
       "      <th>4</th>\n",
       "      <td>23070193</td>\n",
       "      <td>The Gangsters</td>\n",
       "      <td>1956</td>\n",
       "      <td>NaN</td>\n",
       "      <td>NaN</td>\n",
       "      <td>French Language</td>\n",
       "      <td>France</td>\n",
       "      <td>Comedy film</td>\n",
       "      <td>6.8</td>\n",
       "      <td>16</td>\n",
       "    </tr>\n",
       "    <tr>\n",
       "      <th>5</th>\n",
       "      <td>18998739</td>\n",
       "      <td>The Sorcerer's Apprentice</td>\n",
       "      <td>2002</td>\n",
       "      <td>NaN</td>\n",
       "      <td>86.0</td>\n",
       "      <td>English Language</td>\n",
       "      <td>South Africa</td>\n",
       "      <td>Family Film,Fantasy,Adventure,World cinema</td>\n",
       "      <td>6.5</td>\n",
       "      <td>160</td>\n",
       "    </tr>\n",
       "  </tbody>\n",
       "</table>\n",
       "</div>"
      ],
      "text/plain": [
       "   wikipedia movie id                 movie name  movie release date  \\\n",
       "0              975900             Ghosts of Mars                2001   \n",
       "2            28463795                Brun bitter                1988   \n",
       "3            13696889              The Gangsters                1913   \n",
       "4            23070193              The Gangsters                1956   \n",
       "5            18998739  The Sorcerer's Apprentice                2002   \n",
       "\n",
       "   movie box office revenue  movie runtime               movie languages  \\\n",
       "0                14010832.0           98.0              English Language   \n",
       "2                       NaN           83.0            Norwegian Language   \n",
       "3                       NaN           35.0  Silent film,English Language   \n",
       "4                       NaN            NaN               French Language   \n",
       "5                       NaN           86.0              English Language   \n",
       "\n",
       "            movie countries  \\\n",
       "0  United States of America   \n",
       "2                    Norway   \n",
       "3  United States of America   \n",
       "4                    France   \n",
       "5              South Africa   \n",
       "\n",
       "                                        movie genres  averageRating  numVotes  \n",
       "0  Thriller,Science Fiction,Horror,Adventure,Supe...            4.9     55408  \n",
       "2                                Crime Fiction,Drama            5.7        40  \n",
       "3  Short Film,Silent film,Indie,Black-and-white,C...            6.8        16  \n",
       "4                                        Comedy film            6.8        16  \n",
       "5         Family Film,Fantasy,Adventure,World cinema            6.5       160  "
      ]
     },
     "execution_count": 24,
     "metadata": {},
     "output_type": "execute_result"
    }
   ],
   "source": [
    "print(f'Number of movies before integrating with IMDB ratings: {len(df_movie)}')\n",
    "df_movie = df_movie.merge(df_movies_IMDb_ratings, how ='inner', on=['movie name'])\n",
    "df_movie = df_movie.drop_duplicates(subset = 'wikipedia movie id')\n",
    "print(f'Number of movies after integrating with IMDB ratings: {len(df_movie)}')\n",
    "df_movie.head() "
   ]
  },
  {
   "attachments": {},
   "cell_type": "markdown",
   "metadata": {},
   "source": [
    "## Features analysis and visualization"
   ]
  },
  {
   "attachments": {},
   "cell_type": "markdown",
   "metadata": {},
   "source": [
    "To give some background on what, features of characters and movies tables we found useful, and decided to include in final analysis, we present few statistics about the features."
   ]
  },
  {
   "cell_type": "code",
   "execution_count": 25,
   "metadata": {},
   "outputs": [
    {
     "name": "stdout",
     "output_type": "stream",
     "text": [
      "Size of the whole dataframe:  449441\n",
      "Percentage of non-nan values in wikipedia movie id column: \t100 \n",
      "Percentage of non-nan values in actor dob column: \t76 \n",
      "Percentage of non-nan values in actor gender column: \t90 \n",
      "Percentage of non-nan values in actor height column: \t34 \n",
      "Percentage of non-nan values in actor ethnicity column: \t23 \n",
      "Percentage of non-nan values in actor name column: \t100 \n",
      "Percentage of non-nan values in actor age at movie release column: \t65 \n",
      "\n",
      "Size of the whole dataframe:  53178\n",
      "Percentage of non-nan values in wikipedia movie id column: \t100 \n",
      "Percentage of non-nan values in movie name column: \t100 \n",
      "Percentage of non-nan values in movie release date column: \t100 \n",
      "Percentage of non-nan values in movie box office revenue column: \t14 \n",
      "Percentage of non-nan values in movie runtime column: \t82 \n",
      "Percentage of non-nan values in movie languages column: \t100 \n",
      "Percentage of non-nan values in movie countries column: \t100 \n",
      "Percentage of non-nan values in movie genres column: \t100 \n",
      "Percentage of non-nan values in averageRating column: \t100 \n",
      "Percentage of non-nan values in numVotes column: \t100 \n",
      "\n"
     ]
    }
   ],
   "source": [
    "def present_column_usefullnes(df):\n",
    "    print('Size of the whole dataframe: ', len(df))\n",
    "    for column in df.columns:\n",
    "        percentage = 100 * df[column].count() // len(df)\n",
    "        print(f'Percentage of non-nan values in {column} column: \\t{percentage} ')\n",
    "    print('')\n",
    "\n",
    "present_column_usefullnes(df_character)\n",
    "present_column_usefullnes(df_movie)"
   ]
  },
  {
   "attachments": {},
   "cell_type": "markdown",
   "metadata": {},
   "source": [
    "We see, that we can make some observation about corelation between actors' careers and their characteristics as age during movie release or age. Then height and ethnicity is not that common in our table.\n",
    "\n",
    "For movies, we see, that percentage of movies for which box office ravenue is present in the table is rather low. That is the reason why we decided to use IMDb tables, to measure movies 'success' also by how highly rated they are. \n",
    "\n",
    "Now, we want to observe distribution of few, interesting features from movies table."
   ]
  },
  {
   "cell_type": "code",
   "execution_count": 26,
   "metadata": {},
   "outputs": [
    {
     "data": {
      "image/png": "[encoded data removed]",
      "text/plain": [
       "<Figure size 360x360 with 1 Axes>"
      ]
     },
     "metadata": {
      "needs_background": "light"
     },
     "output_type": "display_data"
    }
   ],
   "source": [
    "sns.displot(data=df_movie, x=\"movie release date\", log_scale = (False, True), kind=\"hist\", bins=50)\n",
    "plt.title(\"Distibution of the movie runtime\")\n",
    "plt.xlabel(\"Movie runtime (minutes)\")\n",
    "plt.show()\n",
    "\n"
   ]
  },
  {
   "attachments": {},
   "cell_type": "markdown",
   "metadata": {},
   "source": [
    "## Graph construction"
   ]
  },
  {
   "cell_type": "code",
   "execution_count": 12,
   "metadata": {},
   "outputs": [],
   "source": [
    "class GraphWrapper:\n",
    "    '''\n",
    "        Wrapper for networkx graph class, helps to make required operations easier\n",
    "\n",
    "        The general idea of this wrapper is that, we load the whole graph while initializing\n",
    "        and save it as 'graph_general' (not really whole, because we can specify years \n",
    "        of movies that interest us). Then, we have a part of the whole graph on which we want\n",
    "        to focus - 'graph_part', it is a subgraph on 'graph_general' with all its nodes and\n",
    "        its edges representing movies released in [tw_start, tw_start + tw_length - 1].\n",
    "\n",
    "        So 'graph_part' is a part of 'graph_general' existing in specified time window. All\n",
    "        other operations are made on 'graph_part'.\n",
    "    \n",
    "    '''\n",
    "\n",
    "    def __init__(self, df_character, df_movie, release_year_min, release_year_max):\n",
    "        self.graph_general = nx.Graph()\n",
    "        self.graph_part = nx.Graph() # Graph used for sliding time window\n",
    "        \n",
    "        # Information on what movies do we keep in the graph_general\n",
    "        self.release_year_min = release_year_min\n",
    "        self.release_year_max = release_year_max\n",
    "\n",
    "        # Information on what time window is graph_part focused on\n",
    "        self.tw_start = 0\n",
    "        self.tw_length = 0\n",
    "\n",
    "        # Build graph_general nodes\n",
    "        self.graph_general.add_nodes_from(df_character['actor name'].unique())\n",
    "\n",
    "        # Build edges of graph_general\n",
    "        for _, movie in tqdm(df_movie.iterrows(), total=len(df_movie)):\n",
    "            wiki_movie_id = movie['wikipedia movie id']\n",
    "            movie_release_date = movie['movie release date']\n",
    "            if not release_year_min <= movie_release_date <= release_year_max:\n",
    "                continue # Year outside of bounds\n",
    "            \n",
    "            connected = df_character[df_character['wikipedia movie id'] == wiki_movie_id]['actor name'].unique()\n",
    "            new_edges = [(actor1, actor2, {'date': movie_release_date}) for actor1 in connected for actor2 in connected]\n",
    "            self.graph_general.add_edges_from(new_edges)\n",
    "\n",
    "        # Remove nodes with degree 0 from graph_general\n",
    "        nodes_to_remove = list(filter(lambda entry: entry[1] == 0, self.graph_general.degree))\n",
    "        nodes_to_remove = [node for node, _ in nodes_to_remove]\n",
    "        self.graph_general.remove_nodes_from(nodes_to_remove)\n",
    "\n",
    "        # Add some properties to graph nodes\n",
    "        actors_movie_count = df_character['actor name'].groupby(df_character['actor name']).agg('count')\n",
    "        nx.set_node_attributes(self.graph_general, actors_movie_count, name='movie count')\n",
    "\n",
    "        # Build graph_part nodes\n",
    "        self.graph_part.add_nodes_from(self.graph_general)\n",
    "\n",
    "    def focus_on_tw(self, tw_start, tw_length):\n",
    "        self.tw_start = tw_start\n",
    "        self.tw_length = tw_length\n",
    "        self.graph_part = nx.create_empty_copy(self.graph_general)\n",
    "\n",
    "        for actor1, actor2, attr in self.graph_general.edges(data=True):\n",
    "            if tw_start <= attr['date'] < tw_start + tw_length:\n",
    "                self.graph_part.add_edge(actor1, actor2, date=attr['date'])\n",
    "\n",
    "    def move_tw(self):\n",
    "        '''\n",
    "            Moving time window by 1 year.\n",
    "\n",
    "            It is recommended to use this function to move time window by 1 year, instead of\n",
    "            using 'focus_on_tw' with higher tw_start, as this one performs only the neccecary \n",
    "            modification of 'graph_part' edges.\n",
    "        '''\n",
    "\n",
    "        self.tw_start += 1\n",
    "        \n",
    "        edges_to_remove = list(filter(lambda x: x[2]['date'] == self.tw_start - 1, self.graph_part.edges(data=True)))\n",
    "        self.graph_part.remove_edges_from(edges_to_remove)\n",
    "    \n",
    "        edges_to_add = list(filter(lambda x: x[2]['date'] == self.tw_start + self.tw_length - 1,\\\n",
    "            self.graph_general.edges(data=True)))\n",
    "        self.graph_part.add_edges_from(edges_to_add)\n",
    "\n",
    "    def k_neighborhood(self, node, k):\n",
    "        ''' \n",
    "            Returns all nodes distant 'k' or less from 'node' in 'graph_part'\n",
    "\n",
    "            This function has crazy high complexity with k, but we use\n",
    "            it only with small values of k (<= 3)\n",
    "        '''\n",
    "\n",
    "        nodes = set([node])\n",
    "        for step in range(k):\n",
    "            new_nodes = set()\n",
    "            for node in nodes:\n",
    "                new_nodes = new_nodes.union(self.graph_part[node])\n",
    "            nodes = new_nodes\n",
    "        return nodes\n",
    "\n",
    "    def k_neighborhoods(self, nodes, k):\n",
    "        '''\n",
    "            Returns dict, from node (in 'nodes') to its k-distant neighberhood\n",
    "        '''\n",
    "\n",
    "        result = {node: self.k_neighborhood(node, k) for node in nodes}\n",
    "        return result\n"
   ]
  },
  {
   "cell_type": "code",
   "execution_count": 13,
   "metadata": {},
   "outputs": [
    {
     "data": {
      "application/vnd.jupyter.widget-view+json": {
       "model_id": "fd0c85b720f64cf3aa55ae6afe406310",
       "version_major": 2,
       "version_minor": 0
      },
      "text/plain": [
       "A Jupyter Widget"
      ]
     },
     "metadata": {},
     "output_type": "display_data"
    }
   ],
   "source": [
    "# FOR PERFORMANCE REASONS USE ONLY EDGES CREATED BY MOVIES RELEASED IN CERTAIN YEARS\n",
    "RELEASE_YEAR_MIN = 1985\n",
    "RELEASE_YEAR_MAX = 2005\n",
    "\n",
    "gw = GraphWrapper(df_character, df_movie, RELEASE_YEAR_MIN, RELEASE_YEAR_MAX)\n"
   ]
  },
  {
   "attachments": {},
   "cell_type": "markdown",
   "metadata": {},
   "source": [
    "## Graph analysis"
   ]
  },
  {
   "attachments": {},
   "cell_type": "markdown",
   "metadata": {},
   "source": [
    "#### General graph properties \n",
    "We want to know a little more about the general graph properties and also how the number of edges change through the years."
   ]
  },
  {
   "cell_type": "code",
   "execution_count": 14,
   "metadata": {},
   "outputs": [
    {
     "name": "stdout",
     "output_type": "stream",
     "text": [
      "Whole graph built from movies released between 1985 and 2005\n",
      "Number of nodes in whole graph:  48809\n",
      "Number of edges in whole graph:  745457\n"
     ]
    },
    {
     "data": {
      "application/vnd.jupyter.widget-view+json": {
       "model_id": "ffc4b96d257e4b7d9dec7a5e74480ef2",
       "version_major": 2,
       "version_minor": 0
      },
      "text/plain": [
       "A Jupyter Widget"
      ]
     },
     "metadata": {},
     "output_type": "display_data"
    },
    {
     "data": {
      "application/vnd.jupyter.widget-view+json": {
       "model_id": "cd882ecfee024f39b0e8b6e545fcc8df",
       "version_major": 2,
       "version_minor": 0
      },
      "text/plain": [
       "A Jupyter Widget"
      ]
     },
     "metadata": {},
     "output_type": "display_data"
    },
    {
     "data": {
      "application/vnd.jupyter.widget-view+json": {
       "model_id": "d38ab38eebb54f679ecaf43f3c6646fd",
       "version_major": 2,
       "version_minor": 0
      },
      "text/plain": [
       "A Jupyter Widget"
      ]
     },
     "metadata": {},
     "output_type": "display_data"
    },
    {
     "data": {
      "image/png": "[encoded data removed]",
      "text/plain": [
       "<Figure size 864x432 with 2 Axes>"
      ]
     },
     "metadata": {
      "needs_background": "light"
     },
     "output_type": "display_data"
    },
    {
     "data": {
      "image/png": "[encoded data removed]",
      "text/plain": [
       "<Figure size 1152x288 with 3 Axes>"
      ]
     },
     "metadata": {
      "needs_background": "light"
     },
     "output_type": "display_data"
    }
   ],
   "source": [
    "def plot_degree_distribution(gw):\n",
    "    degrees = [deg for _, deg in gw.graph_general.degree]\n",
    "\n",
    "    fig, ax = plt.subplots(1, 2, figsize=(12,6))\n",
    "    sns.histplot(degrees, ax=ax[0])\n",
    "    sns.histplot(degrees, log_scale=True, ax=ax[1])\n",
    "    fig.suptitle(f'Node degree distribution', fontsize=12)\n",
    "\n",
    "def plot_tw_number_of_edges(gw, tw_length, tw_start_min, tw_end_max, ax):\n",
    "    steps = tw_end_max - tw_start_min - tw_length + 2\n",
    "    gw.focus_on_tw(tw_start_min, tw_length)\n",
    "\n",
    "    numbers_of_edges = []\n",
    "    for _ in tqdm(range(steps), total=steps):\n",
    "        numbers_of_edges.append(gw.graph_part.number_of_edges())\n",
    "        gw.move_tw()\n",
    "    ax.plot(range(tw_start_min, tw_start_min + steps), numbers_of_edges)\n",
    "    ax.set_title(f'Number of edges for time window length {tw_length}')\n",
    "    \n",
    "def plot_tw_for_different_lengths(gw, tw_lengths, tw_start_min, tw_end_max):\n",
    "    fig, axs = plt.subplots(ncols=len(tw_lengths), figsize=(16,4))\n",
    "    fig.suptitle(f'Number of edges evolution for different time windows')\n",
    "    for i, tw_length in enumerate(tw_lengths):\n",
    "        ax = axs[i] if len(tw_lengths) > 1 else axs\n",
    "        plot_tw_number_of_edges(gw, tw_length, tw_start_min, tw_end_max, ax)\n",
    "    plt.show()\n",
    "\n",
    "# Print main graph info\n",
    "print(f'Whole graph built from movies released between {gw.release_year_min} and {gw.release_year_max}')\n",
    "print('Number of nodes in whole graph: ', gw.graph_general.number_of_nodes())\n",
    "print('Number of edges in whole graph: ', gw.graph_general.number_of_edges())\n",
    "\n",
    "plot_degree_distribution(gw)\n",
    "plot_tw_for_different_lengths(gw, {1, 5, 10}, RELEASE_YEAR_MIN, RELEASE_YEAR_MAX)"
   ]
  },
  {
   "attachments": {},
   "cell_type": "markdown",
   "metadata": {},
   "source": [
    "#### k-distant neighborhoods\n",
    "For some context, we would like to know how does the k-distant neighborhood size distribution look for different k. We check that for graph of movies made in time window [1998, 2003] (inclusive)."
   ]
  },
  {
   "cell_type": "code",
   "execution_count": 15,
   "metadata": {},
   "outputs": [
    {
     "name": "stdout",
     "output_type": "stream",
     "text": [
      "Number of nodes in part graph:  48809\n",
      "Number of edges in part graph:  290128\n"
     ]
    },
    {
     "data": {
      "image/png": "[encoded data removed]",
      "text/plain": [
       "<Figure size 864x432 with 2 Axes>"
      ]
     },
     "metadata": {
      "needs_background": "light"
     },
     "output_type": "display_data"
    },
    {
     "data": {
      "image/png": "[encoded data removed]",
      "text/plain": [
       "<Figure size 864x432 with 2 Axes>"
      ]
     },
     "metadata": {
      "needs_background": "light"
     },
     "output_type": "display_data"
    }
   ],
   "source": [
    "def plot_sizes_k_distant_neigberhoods(gw, k, used_nodes_num=-1):\n",
    "    if used_nodes_num == -1: # Use all nodes\n",
    "        used_nodes = gw.graph_part.nodes\n",
    "    else:\n",
    "        used_nodes = random.sample(gw.graph_part.nodes, used_nodes_num)\n",
    "    \n",
    "    sizes = np.array([len(gw.k_neighborhood(node, k)) for node in used_nodes])\n",
    "    sizes = sizes[sizes != 0]\n",
    "\n",
    "    fig, ax = plt.subplots(1, 2, figsize=(12,6))\n",
    "    sns.histplot(sizes, ax=ax[0])\n",
    "    sns.histplot(sizes, log_scale=True, ax=ax[1])\n",
    "    fig.suptitle(f'Distribution of sizes of {k}-distant neighborhoods', fontsize=12)\n",
    "\n",
    "# Focus graph on targetted time window\n",
    "gw.focus_on_tw(1998, 6)\n",
    "print('Number of nodes in part graph: ', gw.graph_part.number_of_nodes())\n",
    "print('Number of edges in part graph: ', gw.graph_part.number_of_edges())\n",
    "\n",
    "# To reduce time, we check only part of nodes, (chosen randomly to preserve distribution shape)\n",
    "plot_sizes_k_distant_neigberhoods(gw, 1, 10000)\n",
    "plot_sizes_k_distant_neigberhoods(gw, 2, 2000)\n"
   ]
  },
  {
   "cell_type": "markdown",
   "metadata": {},
   "source": [
    "We see, that size of 2-distant neighborhoods reach few thousand. These sizes grow exponentially with k. For practical reasons, we decided to operate later on a **value k set to 2**. Higher values would be impractical, both because of computation time, but also because with higher k these neighborhoods become extremely similar for different actors. Lower values also would be impractical, as every time window move would reform one's neighborhood greatly (a new movie would change it more drastically)."
   ]
  },
  {
   "cell_type": "code",
   "execution_count": 288,
   "metadata": {},
   "outputs": [],
   "source": [
    "K = 2"
   ]
  },
  {
   "attachments": {},
   "cell_type": "markdown",
   "metadata": {},
   "source": [
    "Now we would like to check how much does the 2-distant neighborhood change for a given actor with every step (1 year move) of time window. We expect these changes to differ depending on how big the actor's neighborhood is. For that reason, we introduce notion of **active actors** that is, actors who have degree at least 100 in our graph ('graph_general' not just current time window). Thanks to our previous analysis, we know, that about 5% of all actors are **active actors**. These actors are generally the ones who play in more movies, or play in movies with more other actors. We will inspect the changes in neighborhood separately for active actors and for non-active actors. To measure the change we will use Jaccard similarity coefficient."
   ]
  },
  {
   "cell_type": "code",
   "execution_count": 326,
   "metadata": {},
   "outputs": [
    {
     "name": "stdout",
     "output_type": "stream",
     "text": [
      "Split 2000 nodes into groups, of 110 active actors and group of 1890 non-active actors\n"
     ]
    }
   ],
   "source": [
    "def jaccard_coefficient(set1, set2):\n",
    "    if not set1 and not set2:\n",
    "        return 0\n",
    "    return len(set1.intersection(set2)) / len(set1.union(set2))\n",
    "\n",
    "def get_samples(gw, degree_threshold=100, n=2000):\n",
    "    ''' \n",
    "        Draw 'n' random actors, split them into two groups awdaw\n",
    "        according to number of movies played\n",
    "    '''\n",
    "    used_nodes = random.sample(gw.graph_part.nodes, n)\n",
    "    active_actors = list(filter(lambda actor: gw.graph_general.degree[actor] >= degree_threshold, used_nodes))\n",
    "    non_active_actors = list(filter(lambda actor: gw.graph_general.degree[actor] < degree_threshold, used_nodes))\n",
    "    return active_actors, non_active_actors\n",
    "\n",
    "def get_jc_across_time(gw, nodes, tw_start, tw_length, steps_num):\n",
    "    gw.focus_on_tw(tw_start, tw_length)\n",
    "    old_neighborhoods = gw.k_neighborhoods(nodes, K)\n",
    "\n",
    "    coeffs = []\n",
    "    for _ in range(steps_num):\n",
    "        gw.move_tw()\n",
    "        new_neighborhoods = gw.k_neighborhoods(nodes, K)\n",
    "        step_coeffs = [jaccard_coefficient(new_neighborhoods[node], old_neighborhoods[node]) for node in nodes]\n",
    "        coeffs.append(mean(step_coeffs))\n",
    "        old_neighborhoods = new_neighborhoods\n",
    "    return coeffs\n",
    "\n",
    "def plot_jc_for_moving_tw(gw, nodes, tw_start, tw_length, ax, steps_num): \n",
    "    coeffs = get_jc_across_time(gw, nodes, tw_start, tw_length, steps_num)\n",
    "    \n",
    "    ax.plot(list(range(tw_start, tw_start + steps_num)), coeffs, 'o')\n",
    "    ax.set_xticks(list(range(tw_start, tw_start + steps_num)))\n",
    "    ax.set_title(f'Time window length: {tw_length}')\n",
    "    \n",
    "def plot_jc_for_many_tw_lengths(gw, nodes, tw_start, tw_lengths, steps_num=6):\n",
    "    fig, axs = plt.subplots(ncols=len(tw_lengths), figsize=(16,4))\n",
    "    fig.suptitle(f'Jaccard coefficient between {K}-distant neighborhoods across time')\n",
    "    for i, tw_length in enumerate(tqdm(tw_lengths)):\n",
    "        ax = axs[i] if len(tw_lengths) > 1 else axs\n",
    "        plot_jc_for_moving_tw(gw, nodes, tw_start, tw_length, ax, steps_num)\n",
    "    plt.show()\n",
    "\n",
    "# For performence reasone, we will inspect only some actors\n",
    "n = 2000\n",
    "aa, naa = get_samples(gw, n=n)\n",
    "print(f'Split {n} nodes into groups, of {len(aa)} active actors and group of {len(naa)} non-active actors')"
   ]
  },
  {
   "cell_type": "code",
   "execution_count": 327,
   "metadata": {},
   "outputs": [
    {
     "name": "stdout",
     "output_type": "stream",
     "text": [
      "Split 1000 nodes into groups, of 57 active actors and group of 943 non-active actors\n"
     ]
    }
   ],
   "source": [
    "# For performence reasons, we will sample just 1000 actors to check\n",
    "n = 1000\n",
    "aa, naa = get_samples(gw, n=n)\n",
    "print(f'Split {n} nodes into groups, of {len(aa)} active actors and group of {len(naa)} non-active actors')"
   ]
  },
  {
   "cell_type": "code",
   "execution_count": 328,
   "metadata": {},
   "outputs": [
    {
     "data": {
      "application/vnd.jupyter.widget-view+json": {
       "model_id": "6989fe1bef5e44648271e8ba552795f8",
       "version_major": 2,
       "version_minor": 0
      },
      "text/plain": [
       "A Jupyter Widget"
      ]
     },
     "metadata": {},
     "output_type": "display_data"
    },
    {
     "data": {
      "image/png": "[encoded data removed]",
      "text/plain": [
       "<Figure size 1152x288 with 3 Axes>"
      ]
     },
     "metadata": {
      "needs_background": "light"
     },
     "output_type": "display_data"
    }
   ],
   "source": [
    "# First we plot for active actors\n",
    "plot_jc_for_many_tw_lengths(gw, aa, tw_start=RELEASE_YEAR_MIN, tw_lengths={5,7,9}, steps_num=8)"
   ]
  },
  {
   "cell_type": "code",
   "execution_count": 329,
   "metadata": {},
   "outputs": [
    {
     "data": {
      "application/vnd.jupyter.widget-view+json": {
       "model_id": "9c25ce40ff1240719d5dbc426efca957",
       "version_major": 2,
       "version_minor": 0
      },
      "text/plain": [
       "A Jupyter Widget"
      ]
     },
     "metadata": {},
     "output_type": "display_data"
    },
    {
     "data": {
      "image/png": "[encoded data removed]",
      "text/plain": [
       "<Figure size 1152x288 with 3 Axes>"
      ]
     },
     "metadata": {
      "needs_background": "light"
     },
     "output_type": "display_data"
    }
   ],
   "source": [
    "# Second we plot for non-active actors\n",
    "plot_jc_for_many_tw_lengths(gw, naa, tw_start=RELEASE_YEAR_MIN, tw_lengths={5,7,9}, steps_num=8)"
   ]
  },
  {
   "attachments": {},
   "cell_type": "markdown",
   "metadata": {},
   "source": [
    "As expected, we see that similarity between actors neighberhoods between two consequitive time windows is higher for longer time windows. Additionally, we notice that when looking only on **active actors**, this similarity is higher then when looking on non-active actors."
   ]
  }
 ],
 "metadata": {
  "kernelspec": {
   "display_name": "Python 3.8.10 64-bit",
   "language": "python",
   "name": "python3"
  },
  "language_info": {
   "codemirror_mode": {
    "name": "ipython",
    "version": 3
   },
   "file_extension": ".py",
   "mimetype": "text/x-python",
   "name": "python",
   "nbconvert_exporter": "python",
   "pygments_lexer": "ipython3",
   "version": "3.8.10"
  },
  "orig_nbformat": 4,
  "vscode": {
   "interpreter": {
    "hash": "916dbcbb3f70747c44a77c7bcd40155683ae19c65e1c03b4aa3499c5328201f1"
   }
  }
 },
 "nbformat": 4,
 "nbformat_minor": 2
}
