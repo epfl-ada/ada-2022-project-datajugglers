{
 "cells": [
  {
   "cell_type": "code",
   "execution_count": 98,
   "metadata": {},
   "outputs": [],
   "source": [
    "import os\n",
    "import tarfile\n",
    "import datetime\n",
    "import random\n",
    "\n",
    "import pandas as pd\n",
    "import numpy as np\n",
    "import networkx as nx\n",
    "\n",
    "import matplotlib.pyplot as plt\n",
    "import seaborn as sns \n",
    "\n",
    "from statistics import mean\n",
    "from sklearn.metrics import jaccard_score\n",
    "\n",
    "from tqdm.auto import tqdm, trange"
   ]
  },
  {
   "cell_type": "markdown",
   "metadata": {},
   "source": [
    "## Data loading and preprocessing \n",
    "\n",
    "Slightly modified version of milestone 2 submission.\n",
    "\n",
    "Logic stays the same, modifications target mostly clarity/performance/my subjective sense of beauty of the code.\n",
    "\n",
    "Important changes:\n",
    "\n",
    "<ol>\n",
    "  <li>I changed column names to only *lower case*</li>\n",
    "</ol> "
   ]
  },
  {
   "cell_type": "code",
   "execution_count": 99,
   "metadata": {},
   "outputs": [
    {
     "name": "stdout",
     "output_type": "stream",
     "text": [
      "Original number of movies:  81741\n",
      "Number of movies after droping empty dates:  74839\n"
     ]
    }
   ],
   "source": [
    "DATA_FOLDER = 'data'\n",
    "DB_FOLDER_NAME = 'MovieSummaries'\n",
    "MOVIE_TABLE_PATH = os.path.join(DATA_FOLDER, DB_FOLDER_NAME, 'movie.metadata.tsv')\n",
    "CHARACTER_TABLE_PATH = os.path.join(DATA_FOLDER, DB_FOLDER_NAME, 'character.metadata.tsv')\n",
    "\n",
    "movies_columns = ['wikipedia movie id',\n",
    "                  'freebase movie id',\n",
    "                  'movie name',\n",
    "                  'movie release date',\n",
    "                  'movie box office revenue',\n",
    "                  'movie runtime',\n",
    "                  'movie languages',\n",
    "                  'movie countries',\n",
    "                  'movie genres']\n",
    "\n",
    "characters_columns = ['wikipedia movie id',\n",
    "                      'freebase movie id',\n",
    "                      'movie release date',\n",
    "                      'character name',\n",
    "                      'actor dob',\n",
    "                      'actor gender',\n",
    "                      'actor height',\n",
    "                      'actor ethnicity',\n",
    "                      'actor name',\n",
    "                      'actor age at movie release',\n",
    "                      'freebase character/actor map id',\n",
    "                      'freebase character id',\n",
    "                      'freebase character map']\n",
    "\n",
    "# Extract character.metadata.tsv and movie.metadata.tsv tables from MovieSummaries\n",
    "\n",
    "file = tarfile.open(os.path.join(DATA_FOLDER, DB_FOLDER_NAME + '.tar.gz'))\n",
    "file.extractall(DATA_FOLDER)\n",
    "file.close()\n",
    "\n",
    "df_movie = pd.read_csv(MOVIE_TABLE_PATH, sep ='\\t', header = None,\\\n",
    "    names=movies_columns, na_values=['{}', ' '], lineterminator='\\n')\n",
    "df_character = pd.read_csv(CHARACTER_TABLE_PATH, sep ='\\t', header = None,\\\n",
    "    names=characters_columns, na_values=' ', lineterminator='\\n')\n",
    "\n",
    "# Preliminary data cleaning\n",
    "\n",
    "# For movie and character identification we decided to use wikipedia id, so\n",
    "# information from freebase are not usefull for us. We can remove columns regarding freebase.\n",
    "df_movie = df_movie.drop(['freebase movie id'], 1)\n",
    "df_character = df_character.drop(['freebase movie id', 'freebase character/actor map id', 'freebase character id', 'freebase character map'], 1)\n",
    "\n",
    "# In our project we need movie release dates, so we can drop movies without release date.\n",
    "# We drop only about 8 percent of movies.\n",
    "print('Original number of movies: ', len(df_movie))\n",
    "df_movie = df_movie.dropna(subset=['movie release date'])\n",
    "print('Number of movies after droping empty dates: ', len(df_movie))\n",
    "\n"
   ]
  },
  {
   "cell_type": "code",
   "execution_count": 100,
   "metadata": {},
   "outputs": [
    {
     "data": {
      "text/html": [
       "<div>\n",
       "<style scoped>\n",
       "    .dataframe tbody tr th:only-of-type {\n",
       "        vertical-align: middle;\n",
       "    }\n",
       "\n",
       "    .dataframe tbody tr th {\n",
       "        vertical-align: top;\n",
       "    }\n",
       "\n",
       "    .dataframe thead th {\n",
       "        text-align: right;\n",
       "    }\n",
       "</style>\n",
       "<table border=\"1\" class=\"dataframe\">\n",
       "  <thead>\n",
       "    <tr style=\"text-align: right;\">\n",
       "      <th></th>\n",
       "      <th>wikipedia movie id</th>\n",
       "      <th>movie name</th>\n",
       "      <th>movie release date</th>\n",
       "      <th>movie box office revenue</th>\n",
       "      <th>movie runtime</th>\n",
       "      <th>movie languages</th>\n",
       "      <th>movie countries</th>\n",
       "      <th>movie genres</th>\n",
       "    </tr>\n",
       "  </thead>\n",
       "  <tbody>\n",
       "    <tr>\n",
       "      <th>0</th>\n",
       "      <td>975900</td>\n",
       "      <td>Ghosts of Mars</td>\n",
       "      <td>2001</td>\n",
       "      <td>14010832.0</td>\n",
       "      <td>98.0</td>\n",
       "      <td>{\"/m/02h40lc\": \"English Language\"}</td>\n",
       "      <td>{\"/m/09c7w0\": \"United States of America\"}</td>\n",
       "      <td>{\"/m/01jfsb\": \"Thriller\", \"/m/06n90\": \"Science...</td>\n",
       "    </tr>\n",
       "    <tr>\n",
       "      <th>1</th>\n",
       "      <td>3196793</td>\n",
       "      <td>Getting Away with Murder: The JonBenét Ramsey ...</td>\n",
       "      <td>2000</td>\n",
       "      <td>NaN</td>\n",
       "      <td>95.0</td>\n",
       "      <td>{\"/m/02h40lc\": \"English Language\"}</td>\n",
       "      <td>{\"/m/09c7w0\": \"United States of America\"}</td>\n",
       "      <td>{\"/m/02n4kr\": \"Mystery\", \"/m/03bxz7\": \"Biograp...</td>\n",
       "    </tr>\n",
       "    <tr>\n",
       "      <th>2</th>\n",
       "      <td>28463795</td>\n",
       "      <td>Brun bitter</td>\n",
       "      <td>1988</td>\n",
       "      <td>NaN</td>\n",
       "      <td>83.0</td>\n",
       "      <td>{\"/m/05f_3\": \"Norwegian Language\"}</td>\n",
       "      <td>{\"/m/05b4w\": \"Norway\"}</td>\n",
       "      <td>{\"/m/0lsxr\": \"Crime Fiction\", \"/m/07s9rl0\": \"D...</td>\n",
       "    </tr>\n",
       "    <tr>\n",
       "      <th>3</th>\n",
       "      <td>9363483</td>\n",
       "      <td>White Of The Eye</td>\n",
       "      <td>1987</td>\n",
       "      <td>NaN</td>\n",
       "      <td>110.0</td>\n",
       "      <td>{\"/m/02h40lc\": \"English Language\"}</td>\n",
       "      <td>{\"/m/07ssc\": \"United Kingdom\"}</td>\n",
       "      <td>{\"/m/01jfsb\": \"Thriller\", \"/m/0glj9q\": \"Erotic...</td>\n",
       "    </tr>\n",
       "    <tr>\n",
       "      <th>4</th>\n",
       "      <td>261236</td>\n",
       "      <td>A Woman in Flames</td>\n",
       "      <td>1983</td>\n",
       "      <td>NaN</td>\n",
       "      <td>106.0</td>\n",
       "      <td>{\"/m/04306rv\": \"German Language\"}</td>\n",
       "      <td>{\"/m/0345h\": \"Germany\"}</td>\n",
       "      <td>{\"/m/07s9rl0\": \"Drama\"}</td>\n",
       "    </tr>\n",
       "  </tbody>\n",
       "</table>\n",
       "</div>"
      ],
      "text/plain": [
       "   wikipedia movie id                                         movie name  \\\n",
       "0              975900                                     Ghosts of Mars   \n",
       "1             3196793  Getting Away with Murder: The JonBenét Ramsey ...   \n",
       "2            28463795                                        Brun bitter   \n",
       "3             9363483                                   White Of The Eye   \n",
       "4              261236                                  A Woman in Flames   \n",
       "\n",
       "   movie release date  movie box office revenue  movie runtime  \\\n",
       "0                2001                14010832.0           98.0   \n",
       "1                2000                       NaN           95.0   \n",
       "2                1988                       NaN           83.0   \n",
       "3                1987                       NaN          110.0   \n",
       "4                1983                       NaN          106.0   \n",
       "\n",
       "                      movie languages  \\\n",
       "0  {\"/m/02h40lc\": \"English Language\"}   \n",
       "1  {\"/m/02h40lc\": \"English Language\"}   \n",
       "2  {\"/m/05f_3\": \"Norwegian Language\"}   \n",
       "3  {\"/m/02h40lc\": \"English Language\"}   \n",
       "4   {\"/m/04306rv\": \"German Language\"}   \n",
       "\n",
       "                             movie countries  \\\n",
       "0  {\"/m/09c7w0\": \"United States of America\"}   \n",
       "1  {\"/m/09c7w0\": \"United States of America\"}   \n",
       "2                     {\"/m/05b4w\": \"Norway\"}   \n",
       "3             {\"/m/07ssc\": \"United Kingdom\"}   \n",
       "4                    {\"/m/0345h\": \"Germany\"}   \n",
       "\n",
       "                                        movie genres  \n",
       "0  {\"/m/01jfsb\": \"Thriller\", \"/m/06n90\": \"Science...  \n",
       "1  {\"/m/02n4kr\": \"Mystery\", \"/m/03bxz7\": \"Biograp...  \n",
       "2  {\"/m/0lsxr\": \"Crime Fiction\", \"/m/07s9rl0\": \"D...  \n",
       "3  {\"/m/01jfsb\": \"Thriller\", \"/m/0glj9q\": \"Erotic...  \n",
       "4                            {\"/m/07s9rl0\": \"Drama\"}  "
      ]
     },
     "execution_count": 100,
     "metadata": {},
     "output_type": "execute_result"
    }
   ],
   "source": [
    "def date(df_date):\n",
    "    '''unify the dates of a dataframe to year only \n",
    "    \n",
    "    Args:\n",
    "        df_date: the column of the dataframe containing dates\n",
    "        \n",
    "    Returns :\n",
    "        dates: the column of dates, where each year is a int\n",
    "        \n",
    "    '''\n",
    "    dates = []\n",
    "    pb = []\n",
    "    len_year = 4\n",
    "    for date in df_date:\n",
    "        if not (pd.isna(date)):\n",
    "            date = str(date)\n",
    "            if len(date) > len_year:\n",
    "                dates.append(date[0:4])\n",
    "            else:\n",
    "                dates.append(date)\n",
    "        else:\n",
    "            dates.append(date)\n",
    "            \n",
    "    return np.array(dates, dtype=int)\n",
    "\n",
    "# Keep just the year of release\n",
    "df_movie.loc[:, 'movie release date'] = date(df_movie['movie release date'])\n",
    "df_movie.head()"
   ]
  },
  {
   "cell_type": "markdown",
   "metadata": {},
   "source": [
    "##### I skip all data visualization, and other modifications as they are not essential for graph framework\n"
   ]
  },
  {
   "cell_type": "code",
   "execution_count": 101,
   "metadata": {},
   "outputs": [],
   "source": [
    "class GraphWrapper:\n",
    "    '''\n",
    "        Wrapper for networkx graph class, helps to make required operations easier\n",
    "\n",
    "        The general idea of this wrapper is that, we load the whole graph while initializing\n",
    "        and save it as 'graph_general' (not really whole, because we can specify years \n",
    "        of movies that interest us). Then, we have a part of the whole graph on which we want\n",
    "        to focus - 'graph_part', it is a subgraph on 'graph_general' with all its nodes and\n",
    "        its edges representing movies released in [tw_start, tw_start + tw_length - 1].\n",
    "\n",
    "        So 'graph_part' is a part of 'graph_general' existing in specified time window. All\n",
    "        other operations are made on 'graph_part'.\n",
    "    \n",
    "    '''\n",
    "\n",
    "    def __init__(self, df_character, df_movie, used_movies_release_dates):\n",
    "        self.graph_general = nx.Graph()\n",
    "        self.graph_part = nx.Graph() # Graph used for sliding time window\n",
    "        \n",
    "        # Information on what time window is graph_part focused on\n",
    "        self.tw_start = 0\n",
    "        self.tw_length = 0\n",
    "\n",
    "        # Build graphs edges\n",
    "        self.graph_general.add_nodes_from(df_character['actor name'].unique())\n",
    "        self.graph_part.add_nodes_from(self.graph_general)\n",
    "\n",
    "        # Build edges of graph_general\n",
    "        for _, movie in tqdm(df_movie.iterrows(), total=len(df_movie)):\n",
    "            wiki_movie_id = movie['wikipedia movie id']\n",
    "            movie_release_date = movie['movie release date']\n",
    "            if movie_release_date not in used_movies_release_dates:\n",
    "                continue # We dont use this year\n",
    "            \n",
    "            connected = df_character[df_character['wikipedia movie id'] == wiki_movie_id]['actor name'].unique()\n",
    "            new_edges = [(actor1, actor2, {'date': movie_release_date}) for actor1 in connected for actor2 in connected]\n",
    "            self.graph_general.add_edges_from(new_edges)\n",
    "\n",
    "    def focus_on_tw(self, tw_start, tw_length):\n",
    "        self.tw_start = tw_start\n",
    "        self.tw_length = tw_length\n",
    "        self.graph_part = nx.create_empty_copy(self.graph_general)\n",
    "\n",
    "        for actor1, actor2, attr in self.graph_general.edges(data=True):\n",
    "            if tw_start <= attr['date'] < tw_start + tw_length:\n",
    "                self.graph_part.add_edge(actor1, actor2, date=attr['date'])\n",
    "\n",
    "    def move_tw(self):\n",
    "        '''\n",
    "            Moving time window by 1 year.\n",
    "\n",
    "            It is recommended to use this function to move time window by 1 year, instead of\n",
    "            using 'focus_on_tw' with higher tw_start, as this one performs only the neccecary \n",
    "            modification of 'graph_part' edges.\n",
    "        '''\n",
    "\n",
    "        self.tw_start += 1\n",
    "        \n",
    "        fedges = filter(lambda x: x[2] == self.tw_start - 1, self.graph_part.edges(data=True))\n",
    "        self.graph_part.remove_edges_from(fedges)\n",
    "    \n",
    "        for actor1, actor2, attr in self.graph_general.edges(data=True):\n",
    "            if attr['date'] == self.tw_start + self.tw_length - 1:\n",
    "                self.graph_part.add_edge(actor1, actor2, date=attr['date'])\n",
    "\n",
    "    def k_neighborhood(self, node, k):\n",
    "        ''' \n",
    "            Returns all nodes distant 'k' or less from 'node' in 'graph_part'\n",
    "\n",
    "            This function has crazy high complexity with k, but we use\n",
    "            it only with small values of k (<= 3)\n",
    "        '''\n",
    "\n",
    "        nodes = set([node])\n",
    "        for step in range(k):\n",
    "            new_nodes = set()\n",
    "            for node in nodes:\n",
    "                new_nodes = new_nodes.union(self.graph_part[node])\n",
    "            nodes = new_nodes\n",
    "        return nodes\n",
    "\n",
    "    def k_neighborhoods(self, nodes, k):\n",
    "        '''\n",
    "            Returns dict, from node (in 'nodes') to its k-distant neighberhood\n",
    "        '''\n",
    "\n",
    "        result = {node: self.k_neighborhood(node, k) for node in nodes}\n",
    "        return result\n"
   ]
  },
  {
   "cell_type": "code",
   "execution_count": 102,
   "metadata": {},
   "outputs": [
    {
     "data": {
      "application/vnd.jupyter.widget-view+json": {
       "model_id": "7620ddebeaf84822b9f364ec868d43d8",
       "version_major": 2,
       "version_minor": 0
      },
      "text/plain": [
       "A Jupyter Widget"
      ]
     },
     "metadata": {},
     "output_type": "display_data"
    },
    {
     "name": "stdout",
     "output_type": "stream",
     "text": [
      "Number of nodes in whole graph:  134079\n",
      "Number of edges in whole graph:  772020\n"
     ]
    }
   ],
   "source": [
    "# FOR PERFORMANCE REASONS USE ONLY EDGES CREATED BY MOVIES RELEASED IN CERTAIN YEARS\n",
    "USED_MOVIES_RELEASE_DATES = list(range(1993, 2007))\n",
    "\n",
    "gw = GraphWrapper(df_character, df_movie, USED_MOVIES_RELEASE_DATES)\n",
    "\n",
    "print('Number of nodes in whole graph: ', gw.graph_general.number_of_nodes())\n",
    "print('Number of edges in whole graph: ', gw.graph_general.number_of_edges())"
   ]
  },
  {
   "cell_type": "code",
   "execution_count": 103,
   "metadata": {},
   "outputs": [
    {
     "name": "stdout",
     "output_type": "stream",
     "text": [
      "Number of nodes in part graph:  134079\n",
      "Number of edges in part graph:  340034\n"
     ]
    }
   ],
   "source": [
    "gw.focus_on_tw(1998, 6)\n",
    "\n",
    "print('Number of nodes in part graph: ', gw.graph_part.number_of_nodes())\n",
    "print('Number of edges in part graph: ', gw.graph_part.number_of_edges())"
   ]
  },
  {
   "cell_type": "markdown",
   "metadata": {},
   "source": [
    "For some context, we would like to know how does the k-distant neighborhood size distribution look for different k. We check that for graph of movies made between 1998 and 2003 (inclusive)."
   ]
  },
  {
   "cell_type": "code",
   "execution_count": 104,
   "metadata": {},
   "outputs": [
    {
     "data": {
      "image/png": "[encoded data removed]",
      "text/plain": [
       "<Figure size 864x432 with 2 Axes>"
      ]
     },
     "metadata": {
      "needs_background": "light"
     },
     "output_type": "display_data"
    },
    {
     "data": {
      "image/png": "[encoded data removed]",
      "text/plain": [
       "<Figure size 864x432 with 2 Axes>"
      ]
     },
     "metadata": {
      "needs_background": "light"
     },
     "output_type": "display_data"
    }
   ],
   "source": [
    "def plot_sizes_k_distant_neigberhoods(gw, k, used_nodes_num=-1):\n",
    "    if used_nodes_num == -1: # Use all nodes\n",
    "        used_nodes = gw.graph_part.nodes\n",
    "    else:\n",
    "        used_nodes = random.sample(gw.graph_part.nodes, used_nodes_num)\n",
    "    \n",
    "    sizes = np.array([len(gw.k_neighborhood(node, k)) for node in used_nodes])\n",
    "    sizes = sizes[sizes != 0]\n",
    "\n",
    "    fig, ax = plt.subplots(1, 2, figsize=(12,6))\n",
    "    sns.histplot(sizes, ax=ax[0])\n",
    "    sns.histplot(sizes, log_scale=True, ax=ax[1])\n",
    "    fig.suptitle(f'Distribution of sizes of {k}-distant neighborhoods', fontsize=12)\n",
    "\n",
    "\n",
    "# To reduce time, we check only part of nodes, (chosen randomly to preserve distribution shape)\n",
    "plot_sizes_k_distant_neigberhoods(gw, 1, 10000)\n",
    "plot_sizes_k_distant_neigberhoods(gw, 2, 2000)\n"
   ]
  },
  {
   "cell_type": "markdown",
   "metadata": {},
   "source": [
    "We see, that size of 2-distant neighborhoods reach few thousand. These sizes grow exponentially with k. For practical reasons, we decided to operate later on a **value k set to 2**. Higher values would be impractical, both because of computation time, but also because with higher k these neighborhoods become extremely similar for different actors. Lower values also would be impractical, as every time window move would reform one's neighborhood greatly (a new movie would change it more drastically)."
   ]
  },
  {
   "cell_type": "code",
   "execution_count": 105,
   "metadata": {},
   "outputs": [],
   "source": [
    "K = 2"
   ]
  },
  {
   "cell_type": "markdown",
   "metadata": {},
   "source": [
    "Now we would like to check how much does the 2-distant neighborhood change for a given actor with every step (1 year move) of time window. We expect these changes to differ depending on how big the actor's neighborhood is. For that reason, we will inspect the changes separately for actors having less than 50 2-distant neighbors, between 50 and 500, and over 500. To measure the change we will use Jaccard similarity coefficient."
   ]
  },
  {
   "cell_type": "code",
   "execution_count": 112,
   "metadata": {},
   "outputs": [
    {
     "name": "stdout",
     "output_type": "stream",
     "text": [
      "Split 5000 nodes into groups, group 1 size: 351, group 2 size: 610, group 3 size: 761\n"
     ]
    },
    {
     "data": {
      "application/vnd.jupyter.widget-view+json": {
       "model_id": "f89aad1dc6cb461ca353f421e0abd98b",
       "version_major": 2,
       "version_minor": 0
      },
      "text/plain": [
       "A Jupyter Widget"
      ]
     },
     "metadata": {},
     "output_type": "display_data"
    },
    {
     "name": "stdout",
     "output_type": "stream",
     "text": [
      "[0.32468842694244837, 0.37328519549961836, 0.46468744997982897, 0.5877392033171364, 0.7149180261958978]\n",
      "None\n"
     ]
    },
    {
     "data": {
      "application/vnd.jupyter.widget-view+json": {
       "model_id": "b29cee30dffd40c79545cca1de87e772",
       "version_major": 2,
       "version_minor": 0
      },
      "text/plain": [
       "A Jupyter Widget"
      ]
     },
     "metadata": {},
     "output_type": "display_data"
    },
    {
     "name": "stdout",
     "output_type": "stream",
     "text": [
      "[0.11517659295437073, 0.16170860212728166, 0.22503137887753272, 0.32468842694244837, 0.37328519549961836]\n",
      "None\n"
     ]
    }
   ],
   "source": [
    "def jaccard_coefficient(set1, set2):\n",
    "    if not set1 and not set2:\n",
    "        return 0\n",
    "    return len(set1.intersection(set2)) / len(set1.union(set2))\n",
    "\n",
    "def get_samples(gw, threshold1=50, threshold2=500, n=2000):\n",
    "    ''' \n",
    "        Draw 'n' random actors, split them into three groups \n",
    "        according to size of K-distant neighberhood\n",
    "    '''\n",
    "    used_nodes = random.sample(gw.graph_part.nodes, n)\n",
    "    \n",
    "    gr1 = set()\n",
    "    gr2 = set()\n",
    "    gr3 = set()\n",
    "\n",
    "    for node in used_nodes:\n",
    "        neighborhood_size = len(gw.k_neighborhood(node, K))\n",
    "        if neighborhood_size == 0:\n",
    "            continue # We never want to use actors that didn't play in any movie\n",
    "        elif neighborhood_size < threshold1:\n",
    "            gr1.add(node)\n",
    "        elif neighborhood_size < threshold2:\n",
    "            gr2.add(node)\n",
    "        else:\n",
    "            gr3.add(node)\n",
    "    return gr1, gr2, gr3\n",
    "\n",
    "def get_jc_across_time(gw, nodes, tw_start, tw_length, steps_num):\n",
    "    gw.focus_on_tw(tw_start, tw_length)\n",
    "    old_neighborhoods = gw.k_neighborhoods(nodes, K)\n",
    "\n",
    "    coeffs = []\n",
    "    for _ in tqdm(range(steps_num), total=steps_num):\n",
    "        gw.move_tw()\n",
    "        new_neighborhoods = gw.k_neighborhoods(nodes, K)\n",
    "        step_coeffs = [jaccard_coefficient(new_neighborhoods[node], old_neighborhoods[node]) for node in nodes]\n",
    "        coeffs.append(mean(step_coeffs))\n",
    "        old_neighborhoods = new_neighborhoods\n",
    "    return coeffs\n",
    "\n",
    "def plot_jc_for_different_tw(gw, nodes, tw_start, tw_length_min=3, tw_length_max=7, steps_num=5):\n",
    "\n",
    "\n",
    "n = 5000\n",
    "gr1, gr2, gr3 = get_samples(gw, n=n)\n",
    "print(f'Split {n} nodes into groups, group 1 size: {len(gr1)}, group 2 size: {len(gr2)}, group 3 size: {len(gr3)}')\n",
    "\n",
    "\n",
    "print(plot_jaccard_coefficient_across_time(gw, gr1, 1995, 6, 5))\n",
    "print(plot_jaccard_coefficient_across_time(gw, gr1, 1995, 3, 5))\n"
   ]
  },
  {
   "cell_type": "code",
   "execution_count": null,
   "metadata": {},
   "outputs": [
    {
     "ename": "SyntaxError",
     "evalue": "invalid syntax (<ipython-input-22-019dc04d4d85>, line 7)",
     "output_type": "error",
     "traceback": [
      "\u001b[0;36m  File \u001b[0;32m\"<ipython-input-22-019dc04d4d85>\"\u001b[0;36m, line \u001b[0;32m7\u001b[0m\n\u001b[0;31m    def\u001b[0m\n\u001b[0m        ^\u001b[0m\n\u001b[0;31mSyntaxError\u001b[0m\u001b[0;31m:\u001b[0m invalid syntax\n"
     ]
    }
   ],
   "source": [
    "PATRIC_BATEMAN =    'Christian Bale'    # American Psycho (2000)\n",
    "TYLER_DURDEN =      'Brad Pitt'         # Fight Club (1999)\n",
    "FRED =              'Cezary Pazura'     # Chłopaki nie płaczą (2000) (polish movie)\n",
    "\n",
    "# What is the typical k-distant neighborhood size of graph for years 1998 to 2003 for given k\n",
    "\n",
    "\n"
   ]
  }
 ],
 "metadata": {
  "kernelspec": {
   "display_name": "Python 3.8.10 64-bit",
   "language": "python",
   "name": "python3"
  },
  "language_info": {
   "codemirror_mode": {
    "name": "ipython",
    "version": 3
   },
   "file_extension": ".py",
   "mimetype": "text/x-python",
   "name": "python",
   "nbconvert_exporter": "python",
   "pygments_lexer": "ipython3",
   "version": "3.8.10"
  },
  "orig_nbformat": 4,
  "vscode": {
   "interpreter": {
    "hash": "916dbcbb3f70747c44a77c7bcd40155683ae19c65e1c03b4aa3499c5328201f1"
   }
  }
 },
 "nbformat": 4,
 "nbformat_minor": 2
}
