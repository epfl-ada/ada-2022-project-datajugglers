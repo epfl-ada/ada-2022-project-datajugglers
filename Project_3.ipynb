{
 "cells": [
  {
   "cell_type": "markdown",
   "metadata": {},
   "source": [
    "# Project part 3"
   ]
  },
  {
   "cell_type": "markdown",
   "metadata": {},
   "source": [
    "## Installs and imports"
   ]
  },
  {
   "cell_type": "code",
   "execution_count": 1,
   "metadata": {},
   "outputs": [
    {
     "name": "stdout",
     "output_type": "stream",
     "text": [
      "Requirement already satisfied: Wikidata in /home/miraz/.local/lib/python3.8/site-packages (0.7.0)\n",
      "Note: you may need to restart the kernel to use updated packages.\n",
      "Requirement already satisfied: NetworkX in /home/miraz/.local/lib/python3.8/site-packages (2.8.8)\n",
      "Note: you may need to restart the kernel to use updated packages.\n"
     ]
    }
   ],
   "source": [
    "%pip install Wikidata\n",
    "%pip install NetworkX"
   ]
  },
  {
   "cell_type": "code",
   "execution_count": 1,
   "metadata": {},
   "outputs": [],
   "source": [
    "\n",
    "import os\n",
    "import tarfile\n",
    "import datetime\n",
    "import random\n",
    "import json\n",
    "import itertools\n",
    "import requests\n",
    "import scipy\n",
    "\n",
    "import pandas as pd\n",
    "import numpy as np\n",
    "import networkx as nx\n",
    "\n",
    "import matplotlib.pyplot as plt\n",
    "import seaborn as sns \n",
    "\n",
    "from statistics import mean\n",
    "from sklearn.metrics import jaccard_score\n",
    "from wikidata.client import Client\n",
    "from scipy.sparse import coo_array\n",
    "\n",
    "from tqdm.auto import tqdm, trange"
   ]
  },
  {
   "cell_type": "markdown",
   "metadata": {},
   "source": [
    "## Data loading and preprocessing \n"
   ]
  },
  {
   "cell_type": "code",
   "execution_count": 2,
   "metadata": {},
   "outputs": [],
   "source": [
    "DATA_FOLDER = 'data'\n",
    "DB_FOLDER_NAME = 'MovieSummaries'\n",
    "MOVIE_TABLE_PATH = os.path.join(DATA_FOLDER, DB_FOLDER_NAME, 'movie.metadata.tsv')\n",
    "CHARACTER_TABLE_PATH = os.path.join(DATA_FOLDER, DB_FOLDER_NAME, 'character.metadata.tsv')\n",
    "IMDB_FINAL_TABLE_PATH = os.path.join(DATA_FOLDER, 'imdb.ratings.tsv')\n",
    "\n",
    "\n",
    "movies_columns = ['wikipedia movie id',\n",
    "                  'freebase movie id',\n",
    "                  'movie name',\n",
    "                  'movie release date',\n",
    "                  'movie box office revenue',\n",
    "                  'movie runtime',\n",
    "                  'movie languages',\n",
    "                  'movie countries',\n",
    "                  'movie genres']\n",
    "\n",
    "characters_columns = ['wikipedia movie id',\n",
    "                      'freebase movie id',\n",
    "                      'movie release date',\n",
    "                      'character name',\n",
    "                      'actor dob',\n",
    "                      'actor gender',\n",
    "                      'actor height',\n",
    "                      'actor ethnicity',\n",
    "                      'actor name',\n",
    "                      'actor age at movie release',\n",
    "                      'freebase character/actor map id',\n",
    "                      'freebase character id',\n",
    "                      'freebase character map']\n",
    "\n",
    "# Extract character.metadata.tsv and movie.metadata.tsv tables from MovieSummaries\n",
    "\n",
    "file = tarfile.open(os.path.join(DATA_FOLDER, DB_FOLDER_NAME + '.tar.gz'))\n",
    "file.extractall(DATA_FOLDER)\n",
    "file.close()\n",
    "\n",
    "df_movie = pd.read_csv(MOVIE_TABLE_PATH, sep ='\\t', header = None,\\\n",
    "    names=movies_columns, na_values=['{}', ' '], lineterminator='\\n')\n",
    "df_character = pd.read_csv(CHARACTER_TABLE_PATH, sep ='\\t', header = None,\\\n",
    "    names=characters_columns, na_values=' ', lineterminator='\\n')\n",
    "\n",
    "# Extract imdb table\n",
    "\n",
    "df_movies_IMDb_ratings = pd.read_csv(IMDB_FINAL_TABLE_PATH, sep ='\\t',\\\n",
    "    na_values = ['{}', ' '], lineterminator='\\n')\n"
   ]
  },
  {
   "cell_type": "markdown",
   "metadata": {},
   "source": [
    "### Movie table preprocessing"
   ]
  },
  {
   "cell_type": "code",
   "execution_count": 3,
   "metadata": {},
   "outputs": [
    {
     "name": "stderr",
     "output_type": "stream",
     "text": [
      "/tmp/ipykernel_184700/1429770609.py:3: FutureWarning: In a future version of pandas all arguments of DataFrame.drop except for the argument 'labels' will be keyword-only.\n",
      "  df_movie = df_movie.drop(['freebase movie id'], 1)\n"
     ]
    },
    {
     "name": "stdout",
     "output_type": "stream",
     "text": [
      "Original number of movies:  81741\n",
      "Number of movies after droping empty dates:  74839\n",
      "Number of movies after droping too early release date:  74838\n",
      "Number of movies after droping too long movies:  74825\n"
     ]
    }
   ],
   "source": [
    "# For movie and character identification we decided to use wikipedia id, so\n",
    "# information from freebase are not usefull for us. We can remove columns regarding freebase.\n",
    "df_movie = df_movie.drop(['freebase movie id'], 1)\n",
    "\n",
    "# In our project we need movie release dates, so we can drop movies without release date.\n",
    "# We drop only about 8 percent of movies.\n",
    "print('Original number of movies: ', len(df_movie))\n",
    "df_movie = df_movie.dropna(subset=['movie release date'])\n",
    "print('Number of movies after droping empty dates: ', len(df_movie))\n",
    "\n",
    "# Clean some columns which have freebase ID number apart from valuable information\n",
    "def cleaning_function(column):\n",
    "    string_cleaner = lambda val: ','.join(list(json.loads(val).values()))\n",
    "    return [string_cleaner(val) if isinstance(val, str) else 'None' for val in column]\n",
    "\n",
    "df_movie['movie languages'] = cleaning_function(df_movie['movie languages'])\n",
    "df_movie['movie countries'] = cleaning_function(df_movie['movie countries'])\n",
    "df_movie['movie genres'] = cleaning_function(df_movie['movie genres'])\n",
    "\n",
    "# Clean date column, keep dates as just years of type int\n",
    "def date_cleaning_function(column):\n",
    "    string_cleaner = lambda val: val if len(val) <= 4 else val[0:4]\n",
    "    dates = [string_cleaner(str(date)) for date in column]\n",
    "    return np.array(dates, dtype=int)\n",
    "\n",
    "df_movie['movie release date'] = date_cleaning_function(df_movie['movie release date'])\n",
    "\n",
    "MINIMUM_RELEASE_DATE = 1888 # Roundhay Garden Scene was the first motion picture, release in 1888\n",
    "df_movie = df_movie[df_movie['movie release date'] >= MINIMUM_RELEASE_DATE]\n",
    "print('Number of movies after droping too early release date: ', len(df_movie))\n",
    "\n",
    "MAXIMUM_RUNTIME = 1200 # Movie longer then 20h is some anomaly\n",
    "df_movie = df_movie[(df_movie['movie runtime'].isnull()) | (df_movie['movie runtime'] <= MAXIMUM_RUNTIME)]\n",
    "print('Number of movies after droping too long movies: ', len(df_movie))\n"
   ]
  },
  {
   "cell_type": "code",
   "execution_count": 4,
   "metadata": {},
   "outputs": [
    {
     "data": {
      "text/html": [
       "<div>\n",
       "<style scoped>\n",
       "    .dataframe tbody tr th:only-of-type {\n",
       "        vertical-align: middle;\n",
       "    }\n",
       "\n",
       "    .dataframe tbody tr th {\n",
       "        vertical-align: top;\n",
       "    }\n",
       "\n",
       "    .dataframe thead th {\n",
       "        text-align: right;\n",
       "    }\n",
       "</style>\n",
       "<table border=\"1\" class=\"dataframe\">\n",
       "  <thead>\n",
       "    <tr style=\"text-align: right;\">\n",
       "      <th></th>\n",
       "      <th>wikipedia movie id</th>\n",
       "      <th>movie name</th>\n",
       "      <th>movie release date</th>\n",
       "      <th>movie box office revenue</th>\n",
       "      <th>movie runtime</th>\n",
       "      <th>movie languages</th>\n",
       "      <th>movie countries</th>\n",
       "      <th>movie genres</th>\n",
       "    </tr>\n",
       "  </thead>\n",
       "  <tbody>\n",
       "    <tr>\n",
       "      <th>0</th>\n",
       "      <td>975900</td>\n",
       "      <td>Ghosts of Mars</td>\n",
       "      <td>2001</td>\n",
       "      <td>14010832.0</td>\n",
       "      <td>98.0</td>\n",
       "      <td>English Language</td>\n",
       "      <td>United States of America</td>\n",
       "      <td>Thriller,Science Fiction,Horror,Adventure,Supe...</td>\n",
       "    </tr>\n",
       "    <tr>\n",
       "      <th>1</th>\n",
       "      <td>3196793</td>\n",
       "      <td>Getting Away with Murder: The JonBenét Ramsey ...</td>\n",
       "      <td>2000</td>\n",
       "      <td>NaN</td>\n",
       "      <td>95.0</td>\n",
       "      <td>English Language</td>\n",
       "      <td>United States of America</td>\n",
       "      <td>Mystery,Biographical film,Drama,Crime Drama</td>\n",
       "    </tr>\n",
       "    <tr>\n",
       "      <th>2</th>\n",
       "      <td>28463795</td>\n",
       "      <td>Brun bitter</td>\n",
       "      <td>1988</td>\n",
       "      <td>NaN</td>\n",
       "      <td>83.0</td>\n",
       "      <td>Norwegian Language</td>\n",
       "      <td>Norway</td>\n",
       "      <td>Crime Fiction,Drama</td>\n",
       "    </tr>\n",
       "    <tr>\n",
       "      <th>3</th>\n",
       "      <td>9363483</td>\n",
       "      <td>White Of The Eye</td>\n",
       "      <td>1987</td>\n",
       "      <td>NaN</td>\n",
       "      <td>110.0</td>\n",
       "      <td>English Language</td>\n",
       "      <td>United Kingdom</td>\n",
       "      <td>Thriller,Erotic thriller,Psychological thriller</td>\n",
       "    </tr>\n",
       "    <tr>\n",
       "      <th>4</th>\n",
       "      <td>261236</td>\n",
       "      <td>A Woman in Flames</td>\n",
       "      <td>1983</td>\n",
       "      <td>NaN</td>\n",
       "      <td>106.0</td>\n",
       "      <td>German Language</td>\n",
       "      <td>Germany</td>\n",
       "      <td>Drama</td>\n",
       "    </tr>\n",
       "  </tbody>\n",
       "</table>\n",
       "</div>"
      ],
      "text/plain": [
       "   wikipedia movie id                                         movie name  \\\n",
       "0              975900                                     Ghosts of Mars   \n",
       "1             3196793  Getting Away with Murder: The JonBenét Ramsey ...   \n",
       "2            28463795                                        Brun bitter   \n",
       "3             9363483                                   White Of The Eye   \n",
       "4              261236                                  A Woman in Flames   \n",
       "\n",
       "   movie release date  movie box office revenue  movie runtime  \\\n",
       "0                2001                14010832.0           98.0   \n",
       "1                2000                       NaN           95.0   \n",
       "2                1988                       NaN           83.0   \n",
       "3                1987                       NaN          110.0   \n",
       "4                1983                       NaN          106.0   \n",
       "\n",
       "      movie languages           movie countries  \\\n",
       "0    English Language  United States of America   \n",
       "1    English Language  United States of America   \n",
       "2  Norwegian Language                    Norway   \n",
       "3    English Language            United Kingdom   \n",
       "4     German Language                   Germany   \n",
       "\n",
       "                                        movie genres  \n",
       "0  Thriller,Science Fiction,Horror,Adventure,Supe...  \n",
       "1        Mystery,Biographical film,Drama,Crime Drama  \n",
       "2                                Crime Fiction,Drama  \n",
       "3    Thriller,Erotic thriller,Psychological thriller  \n",
       "4                                              Drama  "
      ]
     },
     "execution_count": 4,
     "metadata": {},
     "output_type": "execute_result"
    }
   ],
   "source": [
    "df_movie.head()"
   ]
  },
  {
   "cell_type": "markdown",
   "metadata": {},
   "source": [
    "### Character table preprocessing"
   ]
  },
  {
   "cell_type": "code",
   "execution_count": 5,
   "metadata": {},
   "outputs": [
    {
     "name": "stderr",
     "output_type": "stream",
     "text": [
      "/tmp/ipykernel_184700/3195656742.py:3: FutureWarning: In a future version of pandas all arguments of DataFrame.drop except for the argument 'labels' will be keyword-only.\n",
      "  df_character = df_character.drop(['freebase movie id', 'freebase character/actor map id', 'freebase character id', 'freebase character map'], 1)\n",
      "/tmp/ipykernel_184700/3195656742.py:6: FutureWarning: In a future version of pandas all arguments of DataFrame.drop except for the argument 'labels' will be keyword-only.\n",
      "  df_character = df_character.drop(['movie release date'], 1)\n",
      "/tmp/ipykernel_184700/3195656742.py:9: FutureWarning: In a future version of pandas all arguments of DataFrame.drop except for the argument 'labels' will be keyword-only.\n",
      "  df_character = df_character.drop(['character name'], 1)\n"
     ]
    },
    {
     "name": "stdout",
     "output_type": "stream",
     "text": [
      "Original number of characters:  450669\n",
      "Number of characters after droping empty actor names:  449441\n"
     ]
    }
   ],
   "source": [
    "# For character identification we decided to use wikipedia id, so\n",
    "# information from freebase are not usefull for us. We can remove columns regarding freebase.\n",
    "df_character = df_character.drop(['freebase movie id', 'freebase character/actor map id', 'freebase character id', 'freebase character map'], 1)\n",
    "\n",
    "# Movie release date is used from df_movie dataframe, so it can be removed in df_character\n",
    "df_character = df_character.drop(['movie release date'], 1)\n",
    "\n",
    "# Character names are not really usefull for us in this analysis, as we built actor graph not character graph\n",
    "df_character = df_character.drop(['character name'], 1)\n",
    "\n",
    "# In out project we need actor names, so we can drop character without their, actors name.\n",
    "# We drop less then 1 percent of characters.\n",
    "print('Original number of characters: ', len(df_character))\n",
    "df_character = df_character.dropna(subset=['actor name'])\n",
    "print('Number of characters after droping empty actor names: ', len(df_character))\n"
   ]
  },
  {
   "cell_type": "markdown",
   "metadata": {},
   "source": [
    "Ethnicities retrieving "
   ]
  },
  {
   "cell_type": "code",
   "execution_count": 6,
   "metadata": {},
   "outputs": [
    {
     "name": "stdout",
     "output_type": "stream",
     "text": [
      "We have 479 unique ethnicities in actor table\n"
     ]
    },
    {
     "data": {
      "application/vnd.jupyter.widget-view+json": {
       "model_id": "473f5394fef74f6ab5ecb2cadf775081",
       "version_major": 2,
       "version_minor": 0
      },
      "text/plain": [
       "  0%|          | 0/479 [00:00<?, ?it/s]"
      ]
     },
     "metadata": {},
     "output_type": "display_data"
    },
    {
     "name": "stdout",
     "output_type": "stream",
     "text": [
      "After retrieving actor ethnicities we have 64923 out of449441 character ethnicities - so about 14 percent\n"
     ]
    }
   ],
   "source": [
    "WIKIDATA_QUERY = \"\"\"\n",
    "SELECT DISTINCT ?item ?itemLabel WHERE {\n",
    "  SERVICE wikibase:label { bd:serviceParam wikibase:language \"[AUTO_LANGUAGE]\". }\n",
    "  {\n",
    "    SELECT DISTINCT ?item WHERE {\n",
    "      ?item p:P646 ?statement0.\n",
    "      ?statement0 (ps:P646) \"%s\".\n",
    "    }\n",
    "    LIMIT 100\n",
    "  }\n",
    "}\n",
    "\"\"\"\n",
    "\n",
    "def get_ethnicity(ethnicity_freebase_id):\n",
    "    \"\"\"Get the label of the freebase ID from Wikidata\n",
    "\n",
    "    Args:\n",
    "        freebase_id: the freebase ID to be decoded\n",
    "\n",
    "    Returns: \n",
    "        entity.label, the corresponding label of the Wikidata ID\n",
    "    \"\"\"\n",
    "\n",
    "    query = WIKIDATA_QUERY % ethnicity_freebase_id\n",
    "    req = requests.get(\"https://query.wikidata.org/sparql\",\n",
    "                      params={\"format\": \"json\", \"query\": query})\n",
    "    try:\n",
    "        data = req.json()\n",
    "        wikidata_id = data[\"results\"][\"bindings\"][0][\"itemLabel\"][\"value\"]\n",
    "    except:\n",
    "        return np.nan\n",
    "\n",
    "    return str(Client().get(wikidata_id, load=True).label)\n",
    "\n",
    "def ethnicities_decoded(column):\n",
    "    ethnicities = column.dropna().unique()\n",
    "    print(f'We have {len(ethnicities)} unique ethnicities in actor table')\n",
    "    decoded = []\n",
    "    for ethnicity in tqdm(ethnicities):\n",
    "        decoded.append(get_ethnicity(ethnicity))\n",
    "    translator = dict(zip(ethnicities, decoded))\n",
    "    return column.replace(translator)\n",
    "\n",
    "df_character['actor ethnicity'] = ethnicities_decoded(df_character['actor ethnicity'])\n",
    "ethnicity_found = df_character['actor ethnicity'].count()\n",
    "print(f'After retrieving actor ethnicities we have {ethnicity_found} out of\\\n",
    "{len(df_character)} character ethnicities - so about {100 * ethnicity_found // len(df_character)} percent')"
   ]
  },
  {
   "cell_type": "code",
   "execution_count": 7,
   "metadata": {},
   "outputs": [
    {
     "data": {
      "text/html": [
       "<div>\n",
       "<style scoped>\n",
       "    .dataframe tbody tr th:only-of-type {\n",
       "        vertical-align: middle;\n",
       "    }\n",
       "\n",
       "    .dataframe tbody tr th {\n",
       "        vertical-align: top;\n",
       "    }\n",
       "\n",
       "    .dataframe thead th {\n",
       "        text-align: right;\n",
       "    }\n",
       "</style>\n",
       "<table border=\"1\" class=\"dataframe\">\n",
       "  <thead>\n",
       "    <tr style=\"text-align: right;\">\n",
       "      <th></th>\n",
       "      <th>wikipedia movie id</th>\n",
       "      <th>actor dob</th>\n",
       "      <th>actor gender</th>\n",
       "      <th>actor height</th>\n",
       "      <th>actor ethnicity</th>\n",
       "      <th>actor name</th>\n",
       "      <th>actor age at movie release</th>\n",
       "    </tr>\n",
       "  </thead>\n",
       "  <tbody>\n",
       "    <tr>\n",
       "      <th>0</th>\n",
       "      <td>975900</td>\n",
       "      <td>1958-08-26</td>\n",
       "      <td>F</td>\n",
       "      <td>1.620</td>\n",
       "      <td>NaN</td>\n",
       "      <td>Wanda De Jesus</td>\n",
       "      <td>42.0</td>\n",
       "    </tr>\n",
       "    <tr>\n",
       "      <th>1</th>\n",
       "      <td>975900</td>\n",
       "      <td>1974-08-15</td>\n",
       "      <td>F</td>\n",
       "      <td>1.780</td>\n",
       "      <td>NaN</td>\n",
       "      <td>Natasha Henstridge</td>\n",
       "      <td>27.0</td>\n",
       "    </tr>\n",
       "    <tr>\n",
       "      <th>2</th>\n",
       "      <td>975900</td>\n",
       "      <td>1969-06-15</td>\n",
       "      <td>M</td>\n",
       "      <td>1.727</td>\n",
       "      <td>African Americans</td>\n",
       "      <td>Ice Cube</td>\n",
       "      <td>32.0</td>\n",
       "    </tr>\n",
       "    <tr>\n",
       "      <th>3</th>\n",
       "      <td>975900</td>\n",
       "      <td>1967-09-12</td>\n",
       "      <td>M</td>\n",
       "      <td>1.750</td>\n",
       "      <td>NaN</td>\n",
       "      <td>Jason Statham</td>\n",
       "      <td>33.0</td>\n",
       "    </tr>\n",
       "    <tr>\n",
       "      <th>4</th>\n",
       "      <td>975900</td>\n",
       "      <td>1977-09-25</td>\n",
       "      <td>F</td>\n",
       "      <td>1.650</td>\n",
       "      <td>NaN</td>\n",
       "      <td>Clea DuVall</td>\n",
       "      <td>23.0</td>\n",
       "    </tr>\n",
       "  </tbody>\n",
       "</table>\n",
       "</div>"
      ],
      "text/plain": [
       "   wikipedia movie id   actor dob actor gender  actor height  \\\n",
       "0              975900  1958-08-26            F         1.620   \n",
       "1              975900  1974-08-15            F         1.780   \n",
       "2              975900  1969-06-15            M         1.727   \n",
       "3              975900  1967-09-12            M         1.750   \n",
       "4              975900  1977-09-25            F         1.650   \n",
       "\n",
       "     actor ethnicity          actor name  actor age at movie release  \n",
       "0                NaN      Wanda De Jesus                        42.0  \n",
       "1                NaN  Natasha Henstridge                        27.0  \n",
       "2  African Americans            Ice Cube                        32.0  \n",
       "3                NaN       Jason Statham                        33.0  \n",
       "4                NaN         Clea DuVall                        23.0  "
      ]
     },
     "execution_count": 7,
     "metadata": {},
     "output_type": "execute_result"
    }
   ],
   "source": [
    "df_character.head()"
   ]
  },
  {
   "cell_type": "markdown",
   "metadata": {},
   "source": [
    "### IMDB tables integration into movies table"
   ]
  },
  {
   "cell_type": "code",
   "execution_count": 8,
   "metadata": {},
   "outputs": [
    {
     "name": "stdout",
     "output_type": "stream",
     "text": [
      "Number of movies before integrating with IMDB ratings: 74825\n",
      "Number of movies after integrating with IMDB ratings: 53173\n"
     ]
    },
    {
     "data": {
      "text/html": [
       "<div>\n",
       "<style scoped>\n",
       "    .dataframe tbody tr th:only-of-type {\n",
       "        vertical-align: middle;\n",
       "    }\n",
       "\n",
       "    .dataframe tbody tr th {\n",
       "        vertical-align: top;\n",
       "    }\n",
       "\n",
       "    .dataframe thead th {\n",
       "        text-align: right;\n",
       "    }\n",
       "</style>\n",
       "<table border=\"1\" class=\"dataframe\">\n",
       "  <thead>\n",
       "    <tr style=\"text-align: right;\">\n",
       "      <th></th>\n",
       "      <th>wikipedia movie id</th>\n",
       "      <th>movie name</th>\n",
       "      <th>movie release date</th>\n",
       "      <th>movie box office revenue</th>\n",
       "      <th>movie runtime</th>\n",
       "      <th>movie languages</th>\n",
       "      <th>movie countries</th>\n",
       "      <th>movie genres</th>\n",
       "      <th>average rating</th>\n",
       "      <th>num votes</th>\n",
       "    </tr>\n",
       "  </thead>\n",
       "  <tbody>\n",
       "    <tr>\n",
       "      <th>0</th>\n",
       "      <td>975900</td>\n",
       "      <td>Ghosts of Mars</td>\n",
       "      <td>2001</td>\n",
       "      <td>14010832.0</td>\n",
       "      <td>98.0</td>\n",
       "      <td>English Language</td>\n",
       "      <td>United States of America</td>\n",
       "      <td>Thriller,Science Fiction,Horror,Adventure,Supe...</td>\n",
       "      <td>4.9</td>\n",
       "      <td>55427</td>\n",
       "    </tr>\n",
       "    <tr>\n",
       "      <th>2</th>\n",
       "      <td>28463795</td>\n",
       "      <td>Brun bitter</td>\n",
       "      <td>1988</td>\n",
       "      <td>NaN</td>\n",
       "      <td>83.0</td>\n",
       "      <td>Norwegian Language</td>\n",
       "      <td>Norway</td>\n",
       "      <td>Crime Fiction,Drama</td>\n",
       "      <td>5.7</td>\n",
       "      <td>40</td>\n",
       "    </tr>\n",
       "    <tr>\n",
       "      <th>3</th>\n",
       "      <td>13696889</td>\n",
       "      <td>The Gangsters</td>\n",
       "      <td>1913</td>\n",
       "      <td>NaN</td>\n",
       "      <td>35.0</td>\n",
       "      <td>Silent film,English Language</td>\n",
       "      <td>United States of America</td>\n",
       "      <td>Short Film,Silent film,Indie,Black-and-white,C...</td>\n",
       "      <td>6.8</td>\n",
       "      <td>16</td>\n",
       "    </tr>\n",
       "    <tr>\n",
       "      <th>4</th>\n",
       "      <td>23070193</td>\n",
       "      <td>The Gangsters</td>\n",
       "      <td>1956</td>\n",
       "      <td>NaN</td>\n",
       "      <td>NaN</td>\n",
       "      <td>French Language</td>\n",
       "      <td>France</td>\n",
       "      <td>Comedy film</td>\n",
       "      <td>6.8</td>\n",
       "      <td>16</td>\n",
       "    </tr>\n",
       "    <tr>\n",
       "      <th>5</th>\n",
       "      <td>18998739</td>\n",
       "      <td>The Sorcerer's Apprentice</td>\n",
       "      <td>2002</td>\n",
       "      <td>NaN</td>\n",
       "      <td>86.0</td>\n",
       "      <td>English Language</td>\n",
       "      <td>South Africa</td>\n",
       "      <td>Family Film,Fantasy,Adventure,World cinema</td>\n",
       "      <td>6.5</td>\n",
       "      <td>160</td>\n",
       "    </tr>\n",
       "  </tbody>\n",
       "</table>\n",
       "</div>"
      ],
      "text/plain": [
       "   wikipedia movie id                 movie name  movie release date  \\\n",
       "0              975900             Ghosts of Mars                2001   \n",
       "2            28463795                Brun bitter                1988   \n",
       "3            13696889              The Gangsters                1913   \n",
       "4            23070193              The Gangsters                1956   \n",
       "5            18998739  The Sorcerer's Apprentice                2002   \n",
       "\n",
       "   movie box office revenue  movie runtime               movie languages  \\\n",
       "0                14010832.0           98.0              English Language   \n",
       "2                       NaN           83.0            Norwegian Language   \n",
       "3                       NaN           35.0  Silent film,English Language   \n",
       "4                       NaN            NaN               French Language   \n",
       "5                       NaN           86.0              English Language   \n",
       "\n",
       "            movie countries  \\\n",
       "0  United States of America   \n",
       "2                    Norway   \n",
       "3  United States of America   \n",
       "4                    France   \n",
       "5              South Africa   \n",
       "\n",
       "                                        movie genres  average rating  \\\n",
       "0  Thriller,Science Fiction,Horror,Adventure,Supe...             4.9   \n",
       "2                                Crime Fiction,Drama             5.7   \n",
       "3  Short Film,Silent film,Indie,Black-and-white,C...             6.8   \n",
       "4                                        Comedy film             6.8   \n",
       "5         Family Film,Fantasy,Adventure,World cinema             6.5   \n",
       "\n",
       "   num votes  \n",
       "0      55427  \n",
       "2         40  \n",
       "3         16  \n",
       "4         16  \n",
       "5        160  "
      ]
     },
     "execution_count": 8,
     "metadata": {},
     "output_type": "execute_result"
    }
   ],
   "source": [
    "print(f'Number of movies before integrating with IMDB ratings: {len(df_movie)}')\n",
    "df_movie = df_movie.merge(df_movies_IMDb_ratings, how ='inner', on=['movie name'])\n",
    "df_movie = df_movie.drop_duplicates(subset = 'wikipedia movie id')\n",
    "print(f'Number of movies after integrating with IMDB ratings: {len(df_movie)}')\n",
    "\n",
    "# Rename columns to keep the naming convention\n",
    "df_movie = df_movie.rename(columns={'averageRating': 'average rating', 'numVotes': 'num votes'})\n",
    "\n",
    "df_movie.head() "
   ]
  },
  {
   "cell_type": "markdown",
   "metadata": {},
   "source": [
    "## Features analysis and visualization"
   ]
  },
  {
   "cell_type": "markdown",
   "metadata": {},
   "source": [
    "To give some background on what, features of characters and movies tables we found useful, and decided to include in final analysis, we present few statistics about the features."
   ]
  },
  {
   "cell_type": "code",
   "execution_count": 9,
   "metadata": {},
   "outputs": [
    {
     "name": "stdout",
     "output_type": "stream",
     "text": [
      "Size of the whole dataframe:  449441\n",
      "Percentage of non-nan values in wikipedia movie id column: \t100 \n",
      "Percentage of non-nan values in actor dob column: \t76 \n",
      "Percentage of non-nan values in actor gender column: \t90 \n",
      "Percentage of non-nan values in actor height column: \t34 \n",
      "Percentage of non-nan values in actor ethnicity column: \t14 \n",
      "Percentage of non-nan values in actor name column: \t100 \n",
      "Percentage of non-nan values in actor age at movie release column: \t65 \n",
      "\n",
      "Size of the whole dataframe:  53173\n",
      "Percentage of non-nan values in wikipedia movie id column: \t100 \n",
      "Percentage of non-nan values in movie name column: \t100 \n",
      "Percentage of non-nan values in movie release date column: \t100 \n",
      "Percentage of non-nan values in movie box office revenue column: \t14 \n",
      "Percentage of non-nan values in movie runtime column: \t82 \n",
      "Percentage of non-nan values in movie languages column: \t100 \n",
      "Percentage of non-nan values in movie countries column: \t100 \n",
      "Percentage of non-nan values in movie genres column: \t100 \n",
      "Percentage of non-nan values in average rating column: \t100 \n",
      "Percentage of non-nan values in num votes column: \t100 \n",
      "\n"
     ]
    }
   ],
   "source": [
    "def present_column_usefullnes(df):\n",
    "    print('Size of the whole dataframe: ', len(df))\n",
    "    for column in df.columns:\n",
    "        percentage = 100 * df[column].count() // len(df)\n",
    "        print(f'Percentage of non-nan values in {column} column: \\t{percentage} ')\n",
    "    print('')\n",
    "\n",
    "present_column_usefullnes(df_character)\n",
    "present_column_usefullnes(df_movie)"
   ]
  },
  {
   "cell_type": "markdown",
   "metadata": {},
   "source": [
    "We see, that we can make some observation about corelation between actors' careers and their characteristics as age during movie release or age. Then height and ethnicity is not that common in our table.\n",
    "\n",
    "For movies, we see, that percentage of movies for which box office ravenue is present in the table is rather low. That is the reason why we decided to use IMDb tables, to measure movies 'success' also by how highly rated they are. \n",
    "\n",
    "Now, we want to observe distribution of few, interesting features from movies table."
   ]
  },
  {
   "cell_type": "code",
   "execution_count": 10,
   "metadata": {},
   "outputs": [
    {
     "data": {
      "application/vnd.jupyter.widget-view+json": {
       "model_id": "c9bd2d1b97e34398aad747fb99f77186",
       "version_major": 2,
       "version_minor": 0
      },
      "text/plain": [
       "  0%|          | 0/3 [00:00<?, ?it/s]"
      ]
     },
     "metadata": {},
     "output_type": "display_data"
    },
    {
     "data": {
      "image/png": "[encoded data removed]",
      "text/plain": [
       "<Figure size 1152x288 with 3 Axes>"
      ]
     },
     "metadata": {
      "needs_background": "light"
     },
     "output_type": "display_data"
    }
   ],
   "source": [
    "def plot_features_distribution(df, features):\n",
    "    fig, ax = plt.subplots(1, len(features), figsize=(16,4))\n",
    "    for i, feature in enumerate(tqdm(features)):\n",
    "        sns.histplot(df[feature], log_scale=(False, True), bins=50, ax=ax[i])\n",
    "        # ax[i].hist(df[feature], bins=50)\n",
    "        # ax[i].set_yscale(\"log\")\n",
    "        ax[i].set_title(f'Distribution of {feature} feature')\n",
    "    fig.suptitle(f'Distribution of some features', fontsize=12)\n",
    "    \n",
    "plot_features_distribution(df_movie, ['movie release date', 'movie runtime', 'average rating'])"
   ]
  },
  {
   "cell_type": "markdown",
   "metadata": {},
   "source": [
    "Average movie rating distribution looks quite nice, like it is a normal distribution. From this, we can deduct, that actors' rating distribution looks similar. We will use this fact, together with the knowledge of average rating among actors."
   ]
  },
  {
   "cell_type": "markdown",
   "metadata": {},
   "source": [
    "## Graph construction"
   ]
  },
  {
   "cell_type": "code",
   "execution_count": 11,
   "metadata": {},
   "outputs": [],
   "source": [
    "class GraphWrapper:\n",
    "    '''\n",
    "        Wrapper for networkx graph class, helps to make required operations easier\n",
    "\n",
    "        The general idea of this wrapper is that, we load the whole graph while initializing\n",
    "        and save it as 'graph_general' (not really whole, because we can specify years \n",
    "        of movies that interest us). Then, we have a part of the whole graph on which we want\n",
    "        to focus - 'graph_part', it is a subgraph on 'graph_general' with all its nodes and\n",
    "        its edges representing movies released in [tw_start, tw_start + tw_length - 1].\n",
    "\n",
    "        So 'graph_part' is a part of 'graph_general' existing in specified time window. All\n",
    "        other operations are made on 'graph_part'.\n",
    "    \n",
    "    '''\n",
    "\n",
    "    def __init__(self, df_character, df_movie, release_year_min, release_year_max):\n",
    "        self.graph_general = nx.Graph()\n",
    "        self.graph_part = nx.Graph() # Graph used for sliding time window\n",
    "        \n",
    "        # Information on what movies do we keep in the graph_general\n",
    "        self.release_year_min = release_year_min\n",
    "        self.release_year_max = release_year_max\n",
    "\n",
    "        # Information on what time window is graph_part focused on\n",
    "        self.tw_start = 0\n",
    "        self.tw_length = 0\n",
    "\n",
    "        # Build graph_general nodes\n",
    "        self.graph_general.add_nodes_from(df_character['actor name'].unique())\n",
    "\n",
    "        # Add rating property to graph nodes\n",
    "        attr = {node:{} for node in self.graph_general.nodes}\n",
    "        nx.set_node_attributes(self.graph_general, attr, name='rating')\n",
    "\n",
    "        # Build edges of graph_general\n",
    "        for _, movie in tqdm(df_movie.iterrows(), total=len(df_movie)):\n",
    "            wiki_movie_id = movie['wikipedia movie id']\n",
    "            movie_release_date = movie['movie release date']\n",
    "            movie_rating = movie['average rating']\n",
    "            if not release_year_min <= movie_release_date <= release_year_max:\n",
    "                continue # Year outside of bounds\n",
    "            \n",
    "            connected = df_character[df_character['wikipedia movie id'] == wiki_movie_id]['actor name'].unique()\n",
    "            for node in connected:\n",
    "                self.graph_general.nodes[node]['rating'][movie_release_date] = movie_rating\n",
    "            attributes = {'date': movie_release_date}\n",
    "            new_edges = [(actor1, actor2, attributes) for actor1 in connected for actor2 in connected]\n",
    "            self.graph_general.add_edges_from(new_edges)\n",
    "\n",
    "        # Remove nodes with degree 0 from graph_general\n",
    "        nodes_to_remove = list(filter(lambda entry: entry[1] == 0, self.graph_general.degree))\n",
    "        nodes_to_remove = [node for node, _ in nodes_to_remove]\n",
    "        self.graph_general.remove_nodes_from(nodes_to_remove)\n",
    "\n",
    "        # Add some properties to graph nodes\n",
    "        actors_movie_count = df_character['actor name'].groupby(df_character['actor name']).agg('count')\n",
    "        nx.set_node_attributes(self.graph_general, actors_movie_count, name='movie count')\n",
    "\n",
    "        actors_first_movie = {}\n",
    "        actors_last_movie = {}\n",
    "        for node in self.graph_general.nodes:\n",
    "            actors_first_movie[node] = min([attr['date'] for attr in self.graph_general[node].values()])\n",
    "            actors_last_movie[node] = max([attr['date'] for attr in self.graph_general[node].values()])\n",
    "        nx.set_node_attributes(self.graph_general, actors_first_movie, name='first release')\n",
    "        nx.set_node_attributes(self.graph_general, actors_last_movie, name='last release')\n",
    "\n",
    "        # Build graph_part nodes\n",
    "        self.graph_part.add_nodes_from(self.graph_general)\n",
    "\n",
    "    def focus_on_tw(self, tw_start, tw_length):\n",
    "        self.tw_start = int(tw_start)\n",
    "        self.tw_length = tw_length\n",
    "        self.graph_part = nx.create_empty_copy(self.graph_general)\n",
    "\n",
    "        for actor1, actor2, attr in self.graph_general.edges(data=True):\n",
    "            if tw_start <= attr['date'] < tw_start + tw_length:\n",
    "                self.graph_part.add_edge(actor1, actor2, date=attr['date'])\n",
    "\n",
    "    def move_tw(self):\n",
    "        '''\n",
    "            Moving time window by 1 year.\n",
    "\n",
    "            It is recommended to use this function to move time window by 1 year, instead of\n",
    "            using 'focus_on_tw' with higher tw_start, as this one performs only the neccecary \n",
    "            modification of 'graph_part' edges.\n",
    "        '''\n",
    "\n",
    "        self.tw_start += 1\n",
    "        \n",
    "        edges_to_remove = list(filter(lambda x: x[2]['date'] == self.tw_start - 1, self.graph_part.edges(data=True)))\n",
    "        self.graph_part.remove_edges_from(edges_to_remove)\n",
    "    \n",
    "        edges_to_add = list(filter(lambda x: x[2]['date'] == self.tw_start + self.tw_length - 1,\\\n",
    "            self.graph_general.edges(data=True)))\n",
    "        self.graph_part.add_edges_from(edges_to_add)\n",
    "\n",
    "    def k_neighborhood(self, node, k):\n",
    "        ''' \n",
    "            Returns all nodes distant 'k' or less from 'node' in 'graph_part'\n",
    "\n",
    "            This function has crazy high complexity with k, but we use\n",
    "            it only with small values of k (<= 3)\n",
    "        '''\n",
    "\n",
    "        nodes = set([node])\n",
    "        for step in range(k):\n",
    "            new_nodes = set()\n",
    "            for node in nodes:\n",
    "                new_nodes = new_nodes.union(self.graph_part[node])\n",
    "            nodes = new_nodes\n",
    "        return nodes\n",
    "\n",
    "    def k_neighborhoods(self, nodes, k):\n",
    "        '''\n",
    "            Returns dict, from node (in 'nodes') to its k-distant neighberhood\n",
    "        '''\n",
    "\n",
    "        result = {node: self.k_neighborhood(node, k) for node in nodes}\n",
    "        return result\n",
    "\n",
    "    def get_actor_rating(self, actor, year):\n",
    "        '''\n",
    "            We define actor's rating of fiven year as rating of a movie he played it \n",
    "            the closest (timewise) to this year. If actor didn't play in any movies in [-10 +10 years]\n",
    "            then his rating is 0\n",
    "        '''\n",
    "\n",
    "        ratings = self.graph_general.nodes[actor]['rating']\n",
    "        max_distance = 10\n",
    "        distance = 0\n",
    "        \n",
    "        for distance in range(max_distance + 1):\n",
    "            if year + distance in ratings:\n",
    "                return ratings[year + distance]\n",
    "            if year - distance in ratings:\n",
    "                return ratings[year - distance]\n",
    "        return 0\n",
    "\n",
    "    def get_actor_group_rating(self, actors, year):\n",
    "        '''\n",
    "            Return mean rating from all the actors in the group\n",
    "        '''\n",
    "\n",
    "        return mean([self.get_actor_rating(actor, year) for actor in actors])\n",
    "\n",
    "    def get_actor_rating_smooth(self, actor, year, radius):\n",
    "        '''\n",
    "            Returns mean from actor's ratings on interval [year - radius, year + radius]\n",
    "            For radius = 0 its equivalent to get_actor_rating\n",
    "        '''\n",
    "\n",
    "        return mean([self.get_actor_rating(actor, year1) for year1 in range(year - radius, year + radius + 1)])\n"
   ]
  },
  {
   "cell_type": "code",
   "execution_count": 12,
   "metadata": {},
   "outputs": [
    {
     "data": {
      "application/vnd.jupyter.widget-view+json": {
       "model_id": "aebcdc798b1f45179e1232f3cabdd208",
       "version_major": 2,
       "version_minor": 0
      },
      "text/plain": [
       "  0%|          | 0/53173 [00:00<?, ?it/s]"
      ]
     },
     "metadata": {},
     "output_type": "display_data"
    }
   ],
   "source": [
    "# FOR PERFORMANCE REASONS USE ONLY EDGES CREATED BY MOVIES RELEASED IN CERTAIN YEARS\n",
    "RELEASE_YEAR_MIN = 1980\n",
    "RELEASE_YEAR_MAX = 2010\n",
    "\n",
    "gw = GraphWrapper(df_character, df_movie, RELEASE_YEAR_MIN, RELEASE_YEAR_MAX)\n"
   ]
  },
  {
   "cell_type": "markdown",
   "metadata": {},
   "source": [
    "## Graph analysis"
   ]
  },
  {
   "cell_type": "markdown",
   "metadata": {},
   "source": [
    "#### General graph properties \n",
    "We want to know a little more about the general graph properties and also how the number of edges change through the years."
   ]
  },
  {
   "cell_type": "code",
   "execution_count": 13,
   "metadata": {},
   "outputs": [
    {
     "name": "stdout",
     "output_type": "stream",
     "text": [
      "Whole graph built from movies released between 1980 and 2010\n",
      "Number of nodes in whole graph:  75276\n",
      "Number of edges in whole graph:  1225724\n"
     ]
    },
    {
     "data": {
      "application/vnd.jupyter.widget-view+json": {
       "model_id": "eff747f565334d5abea2ae27e3af0c10",
       "version_major": 2,
       "version_minor": 0
      },
      "text/plain": [
       "  0%|          | 0/31 [00:00<?, ?it/s]"
      ]
     },
     "metadata": {},
     "output_type": "display_data"
    },
    {
     "ename": "KeyboardInterrupt",
     "evalue": "",
     "output_type": "error",
     "traceback": [
      "\u001b[0;31m---------------------------------------------------------------------------\u001b[0m",
      "\u001b[0;31mKeyboardInterrupt\u001b[0m                         Traceback (most recent call last)",
      "Input \u001b[0;32mIn [13]\u001b[0m, in \u001b[0;36m<cell line: 55>\u001b[0;34m()\u001b[0m\n\u001b[1;32m     53\u001b[0m plot_degree_distribution(gw)\n\u001b[1;32m     54\u001b[0m \u001b[38;5;66;03m# plot_tw_for_different_lengths(gw, {1, 5, 10}, RELEASE_YEAR_MIN, RELEASE_YEAR_MAX)\u001b[39;00m\n\u001b[0;32m---> 55\u001b[0m \u001b[43mplot_tw_average_degree\u001b[49m\u001b[43m(\u001b[49m\u001b[43mgw\u001b[49m\u001b[43m,\u001b[49m\u001b[43m \u001b[49m\u001b[43m{\u001b[49m\u001b[38;5;241;43m1\u001b[39;49m\u001b[43m,\u001b[49m\u001b[43m \u001b[49m\u001b[38;5;241;43m5\u001b[39;49m\u001b[43m,\u001b[49m\u001b[43m \u001b[49m\u001b[38;5;241;43m10\u001b[39;49m\u001b[43m}\u001b[49m\u001b[43m,\u001b[49m\u001b[43m \u001b[49m\u001b[43mRELEASE_YEAR_MIN\u001b[49m\u001b[43m,\u001b[49m\u001b[43m \u001b[49m\u001b[43mRELEASE_YEAR_MAX\u001b[49m\u001b[43m)\u001b[49m\n",
      "Input \u001b[0;32mIn [13]\u001b[0m, in \u001b[0;36mplot_tw_average_degree\u001b[0;34m(gw, tw_lengths, tw_start_min, tw_end_max)\u001b[0m\n\u001b[1;32m     39\u001b[0m     average_degree \u001b[38;5;241m=\u001b[39m mean([deg \u001b[38;5;28;01mfor\u001b[39;00m _, deg \u001b[38;5;129;01min\u001b[39;00m gw\u001b[38;5;241m.\u001b[39mgraph_part\u001b[38;5;241m.\u001b[39mdegree])\n\u001b[1;32m     40\u001b[0m     average_degrees\u001b[38;5;241m.\u001b[39mappend(average_degree)\n\u001b[0;32m---> 41\u001b[0m     \u001b[43mgw\u001b[49m\u001b[38;5;241;43m.\u001b[39;49m\u001b[43mmove_tw\u001b[49m\u001b[43m(\u001b[49m\u001b[43m)\u001b[49m\n\u001b[1;32m     42\u001b[0m ax\u001b[38;5;241m.\u001b[39mplot(\u001b[38;5;28mrange\u001b[39m(tw_start_min, tw_start_min \u001b[38;5;241m+\u001b[39m steps), average_degrees)\n\u001b[1;32m     43\u001b[0m ax\u001b[38;5;241m.\u001b[39mset_title(\u001b[38;5;124mf\u001b[39m\u001b[38;5;124m'\u001b[39m\u001b[38;5;124mAverage degree for time window length \u001b[39m\u001b[38;5;132;01m{\u001b[39;00mtw_length\u001b[38;5;132;01m}\u001b[39;00m\u001b[38;5;124m'\u001b[39m)\n",
      "Input \u001b[0;32mIn [11]\u001b[0m, in \u001b[0;36mGraphWrapper.move_tw\u001b[0;34m(self)\u001b[0m\n\u001b[1;32m     90\u001b[0m edges_to_remove \u001b[38;5;241m=\u001b[39m \u001b[38;5;28mlist\u001b[39m(\u001b[38;5;28mfilter\u001b[39m(\u001b[38;5;28;01mlambda\u001b[39;00m x: x[\u001b[38;5;241m2\u001b[39m][\u001b[38;5;124m'\u001b[39m\u001b[38;5;124mdate\u001b[39m\u001b[38;5;124m'\u001b[39m] \u001b[38;5;241m==\u001b[39m \u001b[38;5;28mself\u001b[39m\u001b[38;5;241m.\u001b[39mtw_start \u001b[38;5;241m-\u001b[39m \u001b[38;5;241m1\u001b[39m, \u001b[38;5;28mself\u001b[39m\u001b[38;5;241m.\u001b[39mgraph_part\u001b[38;5;241m.\u001b[39medges(data\u001b[38;5;241m=\u001b[39m\u001b[38;5;28;01mTrue\u001b[39;00m)))\n\u001b[1;32m     91\u001b[0m \u001b[38;5;28mself\u001b[39m\u001b[38;5;241m.\u001b[39mgraph_part\u001b[38;5;241m.\u001b[39mremove_edges_from(edges_to_remove)\n\u001b[0;32m---> 93\u001b[0m edges_to_add \u001b[38;5;241m=\u001b[39m \u001b[38;5;28;43mlist\u001b[39;49m\u001b[43m(\u001b[49m\u001b[38;5;28;43mfilter\u001b[39;49m\u001b[43m(\u001b[49m\u001b[38;5;28;43;01mlambda\u001b[39;49;00m\u001b[43m \u001b[49m\u001b[43mx\u001b[49m\u001b[43m:\u001b[49m\u001b[43m \u001b[49m\u001b[43mx\u001b[49m\u001b[43m[\u001b[49m\u001b[38;5;241;43m2\u001b[39;49m\u001b[43m]\u001b[49m\u001b[43m[\u001b[49m\u001b[38;5;124;43m'\u001b[39;49m\u001b[38;5;124;43mdate\u001b[39;49m\u001b[38;5;124;43m'\u001b[39;49m\u001b[43m]\u001b[49m\u001b[43m \u001b[49m\u001b[38;5;241;43m==\u001b[39;49m\u001b[43m \u001b[49m\u001b[38;5;28;43mself\u001b[39;49m\u001b[38;5;241;43m.\u001b[39;49m\u001b[43mtw_start\u001b[49m\u001b[43m \u001b[49m\u001b[38;5;241;43m+\u001b[39;49m\u001b[43m \u001b[49m\u001b[38;5;28;43mself\u001b[39;49m\u001b[38;5;241;43m.\u001b[39;49m\u001b[43mtw_length\u001b[49m\u001b[43m \u001b[49m\u001b[38;5;241;43m-\u001b[39;49m\u001b[43m \u001b[49m\u001b[38;5;241;43m1\u001b[39;49m\u001b[43m,\u001b[49m\u001b[43m\\\u001b[49m\n\u001b[1;32m     94\u001b[0m \u001b[43m    \u001b[49m\u001b[38;5;28;43mself\u001b[39;49m\u001b[38;5;241;43m.\u001b[39;49m\u001b[43mgraph_general\u001b[49m\u001b[38;5;241;43m.\u001b[39;49m\u001b[43medges\u001b[49m\u001b[43m(\u001b[49m\u001b[43mdata\u001b[49m\u001b[38;5;241;43m=\u001b[39;49m\u001b[38;5;28;43;01mTrue\u001b[39;49;00m\u001b[43m)\u001b[49m\u001b[43m)\u001b[49m\u001b[43m)\u001b[49m\n\u001b[1;32m     95\u001b[0m \u001b[38;5;28mself\u001b[39m\u001b[38;5;241m.\u001b[39mgraph_part\u001b[38;5;241m.\u001b[39madd_edges_from(edges_to_add)\n",
      "File \u001b[0;32m~/.local/lib/python3.10/site-packages/networkx/classes/reportviews.py:849\u001b[0m, in \u001b[0;36mEdgeDataView.__iter__\u001b[0;34m(self)\u001b[0m\n\u001b[1;32m    847\u001b[0m \u001b[38;5;28;01mfor\u001b[39;00m n, nbrs \u001b[38;5;129;01min\u001b[39;00m \u001b[38;5;28mself\u001b[39m\u001b[38;5;241m.\u001b[39m_nodes_nbrs():\n\u001b[1;32m    848\u001b[0m     \u001b[38;5;28;01mfor\u001b[39;00m nbr, dd \u001b[38;5;129;01min\u001b[39;00m nbrs\u001b[38;5;241m.\u001b[39mitems():\n\u001b[0;32m--> 849\u001b[0m         \u001b[38;5;28;01mif\u001b[39;00m nbr \u001b[38;5;129;01mnot\u001b[39;00m \u001b[38;5;129;01min\u001b[39;00m seen:\n\u001b[1;32m    850\u001b[0m             \u001b[38;5;28;01myield\u001b[39;00m \u001b[38;5;28mself\u001b[39m\u001b[38;5;241m.\u001b[39m_report(n, nbr, dd)\n\u001b[1;32m    851\u001b[0m     seen[n] \u001b[38;5;241m=\u001b[39m \u001b[38;5;241m1\u001b[39m\n",
      "\u001b[0;31mKeyboardInterrupt\u001b[0m: "
     ]
    },
    {
     "data": {
      "image/png": "[encoded data removed]",
      "text/plain": [
       "<Figure size 864x432 with 2 Axes>"
      ]
     },
     "metadata": {
      "needs_background": "light"
     },
     "output_type": "display_data"
    },
    {
     "data": {
      "image/png": "[encoded data removed]",
      "text/plain": [
       "<Figure size 1152x288 with 3 Axes>"
      ]
     },
     "metadata": {
      "needs_background": "light"
     },
     "output_type": "display_data"
    }
   ],
   "source": [
    "def plot_degree_distribution(gw):\n",
    "    degrees = [deg for _, deg in gw.graph_general.degree]\n",
    "\n",
    "    fig, ax = plt.subplots(1, 2, figsize=(12,6))\n",
    "    sns.histplot(degrees, ax=ax[0])\n",
    "    sns.histplot(degrees, log_scale=True, ax=ax[1])\n",
    "    fig.suptitle(f'Node degree distribution', fontsize=12)\n",
    "\n",
    "def plot_tw_number_of_edges(gw, tw_length, tw_start_min, tw_end_max, ax):\n",
    "    steps = tw_end_max - tw_start_min - tw_length + 2\n",
    "    gw.focus_on_tw(tw_start_min, tw_length)\n",
    "\n",
    "    numbers_of_edges = []\n",
    "    for _ in tqdm(range(steps), total=steps):\n",
    "        numbers_of_edges.append(gw.graph_part.number_of_edges())\n",
    "        gw.move_tw()\n",
    "    ax.plot(range(tw_start_min, tw_start_min + steps), numbers_of_edges)\n",
    "    ax.set_title(f'Number of edges for time window length {tw_length}')\n",
    "    \n",
    "def plot_tw_for_different_lengths(gw, tw_lengths, tw_start_min, tw_end_max):\n",
    "    fig, axs = plt.subplots(ncols=len(tw_lengths), figsize=(16,4))\n",
    "    fig.suptitle(f'Number of edges evolution for different time windows')\n",
    "    for i, tw_length in enumerate(tw_lengths):\n",
    "        ax = axs[i] if len(tw_lengths) > 1 else axs\n",
    "        plot_tw_number_of_edges(gw, tw_length, tw_start_min, tw_end_max, ax)\n",
    "    plt.show()\n",
    "\n",
    "def plot_tw_average_degree(gw, tw_lengths, tw_start_min, tw_end_max):\n",
    "    fig, axs = plt.subplots(ncols=len(tw_lengths), figsize=(16,4))\n",
    "    fig.suptitle(f'Average node degree for different time windows')\n",
    "\n",
    "    for i, tw_length in enumerate(tw_lengths):\n",
    "        ax = axs[i] if len(tw_lengths) > 1 else axs\n",
    "        steps = tw_end_max - tw_start_min - tw_length + 2\n",
    "        average_degrees = []\n",
    "        gw.focus_on_tw(tw_start_min, tw_length)\n",
    "        \n",
    "        for _ in tqdm(range(steps), total=steps):\n",
    "            average_degree = mean([deg for _, deg in gw.graph_part.degree])\n",
    "            average_degrees.append(average_degree)\n",
    "            gw.move_tw()\n",
    "        ax.plot(range(tw_start_min, tw_start_min + steps), average_degrees)\n",
    "        ax.set_title(f'Average degree for time window length {tw_length}')\n",
    "\n",
    "    plt.show()\n",
    "\n",
    "\n",
    "# Print main graph info\n",
    "print(f'Whole graph built from movies released between {gw.release_year_min} and {gw.release_year_max}')\n",
    "print('Number of nodes in whole graph: ', gw.graph_general.number_of_nodes())\n",
    "print('Number of edges in whole graph: ', gw.graph_general.number_of_edges())\n",
    "\n",
    "plot_degree_distribution(gw)\n",
    "# plot_tw_for_different_lengths(gw, {1, 5, 10}, RELEASE_YEAR_MIN, RELEASE_YEAR_MAX)\n",
    "plot_tw_average_degree(gw, {1, 5, 10}, RELEASE_YEAR_MIN, RELEASE_YEAR_MAX)"
   ]
  },
  {
   "cell_type": "markdown",
   "metadata": {},
   "source": [
    "#### k-distant neighborhoods\n",
    "For some context, we would like to know how does the k-distant neighborhood size distribution look for different k. We check that for graph of movies made in time window [1998, 2003] (inclusive)."
   ]
  },
  {
   "cell_type": "code",
   "execution_count": null,
   "metadata": {},
   "outputs": [],
   "source": [
    "def plot_sizes_k_distant_neigberhoods(gw, k, used_nodes_num=-1):\n",
    "    if used_nodes_num == -1: # Use all nodes\n",
    "        used_nodes = gw.graph_part.nodes\n",
    "    else:\n",
    "        used_nodes = random.sample(gw.graph_part.nodes, used_nodes_num)\n",
    "    \n",
    "    sizes = np.array([len(gw.k_neighborhood(node, k)) for node in used_nodes])\n",
    "    sizes = sizes[sizes != 0]\n",
    "\n",
    "    fig, ax = plt.subplots(1, 2, figsize=(12,6))\n",
    "    sns.histplot(sizes, ax=ax[0])\n",
    "    sns.histplot(sizes, log_scale=True, ax=ax[1])\n",
    "    fig.suptitle(f'Distribution of sizes of {k}-distant neighborhoods', fontsize=12)\n",
    "\n",
    "# Focus graph on targetted time window\n",
    "gw.focus_on_tw(1998, 6)\n",
    "print('Number of nodes in part graph: ', gw.graph_part.number_of_nodes())\n",
    "print('Number of edges in part graph: ', gw.graph_part.number_of_edges())\n",
    "\n",
    "# To reduce time, we check only part of nodes, (chosen randomly to preserve distribution shape)\n",
    "plot_sizes_k_distant_neigberhoods(gw, 1, 10000)\n",
    "plot_sizes_k_distant_neigberhoods(gw, 2, 2000)\n"
   ]
  },
  {
   "cell_type": "markdown",
   "metadata": {},
   "source": [
    "We see, that size of 2-distant neighborhoods reach few thousand. These sizes grow exponentially with k. For practical reasons, we decided to operate later on a **value k set to 2**. Higher values would be impractical, both because of computation time, but also because with higher k these neighborhoods become extremely similar for different actors. Lower values also would be impractical, as every time window move would reform one's neighborhood greatly (a new movie would change it more drastically)."
   ]
  },
  {
   "cell_type": "code",
   "execution_count": null,
   "metadata": {},
   "outputs": [],
   "source": [
    "K = 2"
   ]
  },
  {
   "cell_type": "markdown",
   "metadata": {},
   "source": [
    "Now we would like to check how much does the 2-distant neighborhood change for a given actor with every step (1 year move) of time window. We expect these changes to differ depending on how big the actor's neighborhood is. For that reason, we introduce notion of **active actors** that is, actors who have degree at least 100 in our graph ('graph_general' not just current time window). Thanks to our previous analysis, we know, that about 5% of all actors are **active actors**. These actors are generally the ones who play in more movies, or play in movies with more other actors. We will inspect the changes in neighborhood separately for active actors and for non-active actors. To measure the change we will use Jaccard similarity coefficient."
   ]
  },
  {
   "cell_type": "code",
   "execution_count": null,
   "metadata": {},
   "outputs": [],
   "source": [
    "def jaccard_coefficient(set1, set2):\n",
    "    if not set1 and not set2:\n",
    "        return 0\n",
    "    return len(set1.intersection(set2)) / len(set1.union(set2))\n",
    "\n",
    "def get_samples(gw, degree_threshold=100, n=2000):\n",
    "    ''' \n",
    "        Draw 'n' random actors, split them into two groups awdaw\n",
    "        according to number of movies played\n",
    "    '''\n",
    "    used_nodes = random.sample(gw.graph_part.nodes, n)\n",
    "    active_actors = list(filter(lambda actor: gw.graph_general.degree[actor] >= degree_threshold, used_nodes))\n",
    "    non_active_actors = list(filter(lambda actor: gw.graph_general.degree[actor] < degree_threshold, used_nodes))\n",
    "    return active_actors, non_active_actors\n",
    "\n",
    "def get_jc_across_time(gw, nodes, tw_start, tw_length, steps_num):\n",
    "    gw.focus_on_tw(tw_start, tw_length)\n",
    "    old_neighborhoods = gw.k_neighborhoods(nodes, K)\n",
    "\n",
    "    coeffs = []\n",
    "    for _ in range(steps_num):\n",
    "        gw.move_tw()\n",
    "        new_neighborhoods = gw.k_neighborhoods(nodes, K)\n",
    "        step_coeffs = [jaccard_coefficient(new_neighborhoods[node], old_neighborhoods[node]) for node in nodes]\n",
    "        coeffs.append(mean(step_coeffs))\n",
    "        old_neighborhoods = new_neighborhoods\n",
    "    return coeffs\n",
    "\n",
    "def plot_jc_for_moving_tw(gw, nodes, tw_start, tw_length, ax, steps_num): \n",
    "    coeffs = get_jc_across_time(gw, nodes, tw_start, tw_length, steps_num)\n",
    "    \n",
    "    ax.plot(list(range(tw_start, tw_start + steps_num)), coeffs, 'o')\n",
    "    ax.set_xticks(list(range(tw_start, tw_start + steps_num)))\n",
    "    ax.set_title(f'Time window length: {tw_length}')\n",
    "    \n",
    "def plot_jc_for_many_tw_lengths(gw, nodes, tw_start, tw_lengths, steps_num=6):\n",
    "    fig, axs = plt.subplots(ncols=len(tw_lengths), figsize=(16,4))\n",
    "    fig.suptitle(f'Jaccard coefficient between {K}-distant neighborhoods across time')\n",
    "    for i, tw_length in enumerate(tqdm(tw_lengths)):\n",
    "        ax = axs[i] if len(tw_lengths) > 1 else axs\n",
    "        plot_jc_for_moving_tw(gw, nodes, tw_start, tw_length, ax, steps_num)\n",
    "    plt.show()\n",
    "\n",
    "# For performence reasone, we will inspect only some actors\n",
    "n = 2000\n",
    "aa, naa = get_samples(gw, n=n)\n",
    "print(f'Split {n} nodes into groups, of {len(aa)} active actors and group of {len(naa)} non-active actors')"
   ]
  },
  {
   "cell_type": "code",
   "execution_count": null,
   "metadata": {},
   "outputs": [],
   "source": [
    "# First we plot for active actors\n",
    "plot_jc_for_many_tw_lengths(gw, aa, tw_start=RELEASE_YEAR_MIN, tw_lengths={5,7,9}, steps_num=8)"
   ]
  },
  {
   "cell_type": "code",
   "execution_count": null,
   "metadata": {},
   "outputs": [],
   "source": [
    "# Second we plot for non-active actors\n",
    "plot_jc_for_many_tw_lengths(gw, naa, tw_start=RELEASE_YEAR_MIN, tw_lengths={5,7,9}, steps_num=8)"
   ]
  },
  {
   "cell_type": "markdown",
   "metadata": {},
   "source": [
    "As expected, we see that similarity between actors neighberhoods between two consequitive time windows is higher for longer time windows. Additionally, we notice that when looking only on **active actors**, this similarity is higher then when looking on non-active actors."
   ]
  },
  {
   "cell_type": "code",
   "execution_count": null,
   "metadata": {},
   "outputs": [],
   "source": [
    "active_actors = list(filter(lambda actor: gw.graph_general.degree[actor] >= 100, gw.graph_general.nodes))\n",
    "print(f'Number of active actors: {len(active_actors)}')"
   ]
  },
  {
   "cell_type": "markdown",
   "metadata": {},
   "source": [
    "# Actors' ratings and network"
   ]
  },
  {
   "cell_type": "markdown",
   "metadata": {},
   "source": [
    "#### Active actors = good actors?\n",
    "Do active actors on average play better then their neighborhoods? To test that, we will find which actors (among active actors), are often (majority of career) at least 1 rating point of rating above their 2-distant neighborhoods (assuming time window radius = 1). We would call them good active actors. Actors who often play at least 1 rating point worse then their neighborhood we will call bad active actors. "
   ]
  },
  {
   "cell_type": "code",
   "execution_count": null,
   "metadata": {},
   "outputs": [],
   "source": [
    "def split_on_rating_in_context(gw, actors, radius=1, threshold=1, year_max=RELEASE_YEAR_MAX, year_min=RELEASE_YEAR_MIN):\n",
    "    # Update year min for first year with movie released\n",
    "\n",
    "    actors_ratings = [[] for _ in actors] \n",
    "    neighborhoods_ratings = [[] for _ in actors]\n",
    "\n",
    "    gw.focus_on_tw(year_min - radius, 2 * radius + 1)\n",
    "\n",
    "    for _ in tqdm(range(year_min, year_max + 1)):\n",
    "        year = gw.tw_start + radius\n",
    "        for i, actor in enumerate(actors):\n",
    "            neighborhood = gw.k_neighborhood(actor, K)\n",
    "            if neighborhood:\n",
    "                neighborhoods_ratings[i].append(gw.get_actor_group_rating(neighborhood, year))\n",
    "                actors_ratings[i].append(gw.get_actor_rating_smooth(actor, year, radius))\n",
    "        gw.move_tw()\n",
    "\n",
    "    # Check who has rating on average threshold different from neighborhoods rating\n",
    "    good_actors = set()\n",
    "    bad_actors = set()\n",
    "\n",
    "    for i, actor in enumerate(tqdm(actors)):\n",
    "        actor_rating = np.array(actors_ratings[i])\n",
    "        neighborhood_rating = np.array(neighborhoods_ratings[i])\n",
    "\n",
    "        good_years = actor_rating >= neighborhood_rating + threshold\n",
    "        bad_years = actor_rating <= neighborhood_rating - threshold\n",
    "\n",
    "        if sum(good_years) > len(good_years) / 2:\n",
    "            good_actors.add(actor) # Majority of years substentially above average\n",
    "        if sum(bad_years) > len(bad_years) / 2:\n",
    "            bad_actors.add(actor) # Majority of years substentially below average\n",
    "    return good_actors, bad_actors\n",
    "\n",
    "good_active_actors, bad_active_actors = split_on_rating_in_context(gw, active_actors)\n",
    "print(f'Percentage of active actors who often play better then neighborhood: {100 * len(good_active_actors) / len(active_actors)}')\n",
    "print(f'Percentage of active actors who often play better then neighborhood: {100 * len(bad_active_actors) / len(active_actors)}')"
   ]
  },
  {
   "cell_type": "code",
   "execution_count": null,
   "metadata": {},
   "outputs": [],
   "source": [
    "print('Good actors: ', good_active_actors, '\\n')\n",
    "print('Bad actors: ', bad_active_actors, '\\n')"
   ]
  },
  {
   "cell_type": "markdown",
   "metadata": {},
   "source": [
    "We are interested if we can observe any correlation between actors' rating and their neighborhoods' rating across time. For that, we showcase few plots of ratings of different actors (two good active actors and two bad active actors) and their neighborhoods. Here, the time window for which we define neighborhood is 7 years, also a function of actor's rating in smoothed (mean of previous 3 and next 3 years)."
   ]
  },
  {
   "cell_type": "code",
   "execution_count": null,
   "metadata": {},
   "outputs": [],
   "source": [
    "def plot_ratings_in_context(gw, actors, radius, year_max=RELEASE_YEAR_MAX, year_min=RELEASE_YEAR_MIN):\n",
    "    # Update year min for first year with movie released\n",
    "    actors_ratings = [[] for _ in actors] \n",
    "    neighborhoods_ratings = [[] for _ in actors]\n",
    "    years_rated = [[] for _ in actors]\n",
    "\n",
    "    gw.focus_on_tw(year_min - radius, 2 * radius + 1)\n",
    "\n",
    "    for _ in tqdm(range(year_min, year_max + 1)):\n",
    "        year = gw.tw_start + radius\n",
    "        for i, actor in enumerate(actors):\n",
    "            neighborhood = gw.k_neighborhood(actor, K)\n",
    "            if neighborhood:\n",
    "                neighborhoods_ratings[i].append(gw.get_actor_group_rating(neighborhood, year))\n",
    "                actors_ratings[i].append(gw.get_actor_rating_smooth(actor, year, radius))\n",
    "                years_rated[i].append(year)\n",
    "        gw.move_tw()\n",
    "\n",
    "    fig, axs = plt.subplots(nrows=len(actors), figsize=(8, 12))\n",
    "    fig.tight_layout()\n",
    "    fig.suptitle(f\"Actors' rating versus their neighborhoods rating\")\n",
    "    for i, actor in enumerate(actors):\n",
    "        axs[i].set_title(f'Rating of {actor}')\n",
    "        axs[i].plot(years_rated[i], actors_ratings[i])\n",
    "        axs[i].plot(years_rated[i], neighborhoods_ratings[i])\n",
    "    plt.show()\n",
    "\n",
    "\n",
    "actors = list(good_active_actors)[0:2] + list(bad_active_actors)[0:2]\n",
    "plot_ratings_in_context(gw, actors, radius=3)\n"
   ]
  },
  {
   "cell_type": "markdown",
   "metadata": {},
   "source": [
    "We can see, that for popular actors, setting the time window to be that big, reduces changes in average rating of the actor's 2-distant neighborhood. One thing that can be said after looking at those plots is, that some actors are visibly above their neighborhoods average (so we can say they are really 'good' actors, not just a product of their network), while others are closer to the average of their neighborhood.\n",
    "\n",
    "We decided to check the correlation again, this time with a much shorter time window (3 years) to see how movies in which actors play influence their neighborhood's rating locally.\n"
   ]
  },
  {
   "cell_type": "code",
   "execution_count": null,
   "metadata": {},
   "outputs": [],
   "source": [
    "plot_ratings_in_context(gw, actors, radius=1)"
   ]
  },
  {
   "cell_type": "markdown",
   "metadata": {},
   "source": [
    "The orange line stays rather constant, because for active actors their 2-distant neighborhoods are quite large (as we previously established, usually over 1000 actors). To observe more changes in we could inspect this relations for 1-distant neighborhoods - as from them we expect more neighborhood changes. The downside of this approach is, that every new movie the actor plays in changes his neighborhood drastically."
   ]
  },
  {
   "cell_type": "code",
   "execution_count": null,
   "metadata": {},
   "outputs": [],
   "source": [
    "K = 1\n",
    "\n",
    "plot_ratings_in_context(gw, actors, radius=3)"
   ]
  },
  {
   "cell_type": "markdown",
   "metadata": {},
   "source": [
    "With this smaller K, we see that there is some kind of corelation. But for now, the noise is too big to make any final statement about that"
   ]
  },
  {
   "cell_type": "markdown",
   "metadata": {},
   "source": [
    "#### Do good actors play with bad actors?\n",
    "\n",
    "To tackle that question we decided to plot which actors good actors (from good_active_actors) played with bad actors (from bad_active_actors)."
   ]
  },
  {
   "cell_type": "code",
   "execution_count": null,
   "metadata": {},
   "outputs": [],
   "source": [
    "def plot_biparite(gw, actors1, actors2, title):\n",
    "    biparite_graph = nx.Graph()\n",
    "    biparite_graph.add_nodes_from(actors1)\n",
    "    biparite_graph.add_nodes_from(actors2)\n",
    "    \n",
    "    edges = list(filter(lambda pair: pair[0] in gw.graph_general[pair[1]], list(itertools.product(actors1, actors2))))\n",
    "    print(f'Number of edges in biparite graph: {len(edges)}')\n",
    "    biparite_graph.add_edges_from(edges)\n",
    "\n",
    "    pos = nx.bipartite_layout(biparite_graph, actors1)\n",
    "    fig, ax = plt.subplots(figsize=(16,12))\n",
    "    ax.set_title(title)\n",
    "    nx.draw(biparite_graph, pos=pos, ax=ax, node_size=10, node_color='m', width=0.5, with_labels=True, font_size=10)\n",
    "\n",
    "plot_biparite(gw, good_active_actors, bad_active_actors, title='Connections between good active actors and bad active actors')"
   ]
  },
  {
   "cell_type": "code",
   "execution_count": null,
   "metadata": {},
   "outputs": [],
   "source": [
    "def expected_number_of_edges(gw, n1, n2, iterations=100):\n",
    "    total_number_of_edges = 0\n",
    "    for _ in tqdm(range(iterations)):\n",
    "        actors1 = random.sample(active_actors, n1)\n",
    "        actors2 = random.sample(active_actors, n2)\n",
    "        edges = list(filter(lambda pair: pair[0] in gw.graph_general[pair[1]], list(itertools.product(actors1, actors2))))\n",
    "        total_number_of_edges += len(edges)\n",
    "    return total_number_of_edges / iterations\n",
    "\n",
    "group_size = (len(good_active_actors) + len(bad_active_actors)) // 2\n",
    "print(f'Expected number of edges between two active actors groups of size {group_size} is {expected_number_of_edges(gw, group_size, group_size)}')\n"
   ]
  },
  {
   "cell_type": "code",
   "execution_count": null,
   "metadata": {},
   "outputs": [],
   "source": []
  },
  {
   "cell_type": "markdown",
   "metadata": {},
   "source": [
    "We see that, among two random groups of active actors we have more edges then between the good active actors group and bad active actors group. That confirms our expectation that bad active actors play with good active actors leff often.\n",
    "\n",
    "We can inspect that in another way, looking at 'group_size' active actors with highest average rating and with lowest average rating and calculating number of edges between those two groups. Also we can check the same thing among two different groups of actors with high rating."
   ]
  },
  {
   "cell_type": "code",
   "execution_count": null,
   "metadata": {},
   "outputs": [],
   "source": [
    "def sample_best_worst_rated(gw, actors, group_size):\n",
    "    average_ratings = list(zip([mean(gw.graph_general.nodes[actor]['rating'].values()) for actor in actors], actors))\n",
    "    average_ratings.sort()\n",
    "    worst = [actor for _, actor in average_ratings[0:group_size]]\n",
    "    best = [actor for _, actor in average_ratings[-group_size:]]\n",
    "    return worst, best\n",
    "\n",
    "worst_rated_active_actors, best_rated_active_actors = sample_best_worst_rated(gw, active_actors, group_size)\n",
    "plot_biparite(gw, worst_rated_active_actors, best_rated_active_actors, title='Connection between highly rated and low rated')\n",
    "_, best_rated_active_actors = sample_best_worst_rated(gw, active_actors, 2 * group_size)\n",
    "plot_biparite(gw, best_rated_active_actors[0:group_size], best_rated_active_actors[group_size:], title='Connection between highly rated and highly rated')\n"
   ]
  },
  {
   "cell_type": "markdown",
   "metadata": {},
   "source": [
    "Here we see that result is even more noticable. With this result we can surely state: highly rated actors play with low rated actors significantly less often then with other highly rated actors. We can even state something stronger: **actors tend to play with actors with similar average rating**.\n",
    "\n",
    "This is not that obvious, considering that we are looking at their whole career, and not only single movie that they could do together."
   ]
  },
  {
   "cell_type": "markdown",
   "metadata": {},
   "source": [
    "# Making Tom Cruise graph"
   ]
  },
  {
   "cell_type": "code",
   "execution_count": 46,
   "metadata": {},
   "outputs": [],
   "source": [
    "import json"
   ]
  },
  {
   "cell_type": "code",
   "execution_count": 35,
   "metadata": {},
   "outputs": [],
   "source": [
    "def graph_on_year(year, center, k=1, tw=5):\n",
    "    gw.focus_on_tw(year, tw)\n",
    "    graph = gw.graph_part.copy()\n",
    "    assert center in graph.nodes\n",
    "    \n",
    "    nodes = gw.k_neighborhood(center, k) | {center}\n",
    "    graph.remove_nodes_from(list(set(graph.nodes) - nodes))\n",
    "    scores = [gw.get_actor_rating(actor, year) for actor in graph.nodes]\n",
    "    return graph, scores"
   ]
  },
  {
   "cell_type": "code",
   "execution_count": 40,
   "metadata": {},
   "outputs": [],
   "source": [
    "def to_json(graph, scores):\n",
    "    nodes = [{\"id\": v, \"rating\": score}\n",
    "             for v, score in zip(graph.nodes, scores)]\n",
    "    links = [{\"source\": u, \"target\": v, \"value\": 1}\n",
    "             for u, v in graph.edges]\n",
    "    return {\"nodes\": nodes, \"links\": links}"
   ]
  },
  {
   "cell_type": "code",
   "execution_count": 45,
   "metadata": {},
   "outputs": [],
   "source": [
    "k = 2\n",
    "tw = 5\n",
    "center = \"Tom Cruise\""
   ]
  },
  {
   "cell_type": "code",
   "execution_count": 44,
   "metadata": {},
   "outputs": [
    {
     "data": {
      "application/vnd.jupyter.widget-view+json": {
       "model_id": "903f41a108914ecab75faaf7a8bb3abd",
       "version_major": 2,
       "version_minor": 0
      },
      "text/plain": [
       "  0%|          | 0/30 [00:00<?, ?it/s]"
      ]
     },
     "metadata": {},
     "output_type": "display_data"
    }
   ],
   "source": [
    "for year in trange(RELEASE_YEAR_MIN, RELEASE_YEAR_MAX):\n",
    "    graph, scores = graph_on_year(year, center, k=k, tw=tw)\n",
    "    data = to_json(graph, scores)\n",
    "    with open(os.path.join(\"graphs\", f\"graph{year}.json\"), \"w+\") as f:\n",
    "        json.dump(data, f)"
   ]
  }
 ],
 "metadata": {
  "kernelspec": {
   "display_name": "Python 3 (ipykernel)",
   "language": "python",
   "name": "python3"
  },
  "language_info": {
   "codemirror_mode": {
    "name": "ipython",
    "version": 3
   },
   "file_extension": ".py",
   "mimetype": "text/x-python",
   "name": "python",
   "nbconvert_exporter": "python",
   "pygments_lexer": "ipython3",
   "version": "3.10.8"
  },
  "vscode": {
   "interpreter": {
    "hash": "916dbcbb3f70747c44a77c7bcd40155683ae19c65e1c03b4aa3499c5328201f1"
   }
  }
 },
 "nbformat": 4,
 "nbformat_minor": 4
}
